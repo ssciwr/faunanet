{
 "cells": [
  {
   "cell_type": "markdown",
   "metadata": {},
   "source": [
    "### Status\n",
    "- no existing library fulfills all requirements \n",
    "- core problem: model firmly baked into code everywhere in all of them\n",
    "- no integrated runable system at the moment\n",
    "- no user interface\n",
    "- only able to analyze files\n",
    "- but all necessary parts\n",
    "  - abstractions for recording, preprocessor, model \n",
    "  - model, preprocessing disentangled from rest => allows runtime replacement \n",
    "  \n",
    "- `birdnetlib` provides at the very least starting points for continously running service via `arecord` on linux and for the missint nuts and bolts "
   ]
  },
  {
   "cell_type": "markdown",
   "metadata": {},
   "source": [
    "### Code example"
   ]
  },
  {
   "cell_type": "code",
   "execution_count": null,
   "metadata": {},
   "outputs": [],
   "source": [
    "import iSparrow.sparrow_model_base as spm \n",
    "import iSparrow.sparrow_recording as spr \n",
    "import iSparrow.preprocessor_base as spb\n",
    "import iSparrow.utils as utils\n",
    "\n",
    "import install_sparrow as sp"
   ]
  },
  {
   "cell_type": "code",
   "execution_count": null,
   "metadata": {},
   "outputs": [],
   "source": [
    "from pathlib import Path"
   ]
  },
  {
   "cell_type": "code",
   "execution_count": null,
   "metadata": {},
   "outputs": [],
   "source": [
    "# make a mock install of sparrow \n",
    "sp.install()"
   ]
  },
  {
   "cell_type": "code",
   "execution_count": null,
   "metadata": {},
   "outputs": [],
   "source": [
    "# variables for analysis \n",
    "model_path= \"birdnet_default\"\n",
    "sigmoid_sensitivity= 1.0\n",
    "num_threads= 12\n",
    "min_conf= 0.25\n",
    "\n",
    "# variables for recording\n",
    "recording_path: sp.EXAMPLES / \"soundscape.wav\"\n",
    "sample_rate: 48000\n",
    "overlap: 0.0\n",
    "sample_secs: 3.0\n",
    "resample_type: \"kaiser_fast\""
   ]
  },
  {
   "cell_type": "markdown",
   "metadata": {},
   "source": [
    "#### steps\n",
    "- read module defined as input \n",
    "- build preprocessor\n",
    "- build model \n",
    "- build recording instance from them \n",
    "- analyze"
   ]
  },
  {
   "cell_type": "code",
   "execution_count": null,
   "metadata": {},
   "outputs": [],
   "source": [
    "ppd = utils.load_module(\"ppm\", sp.MODELS/Path(\"birdnet_default\") / \"preprocessor.py\")"
   ]
  },
  {
   "cell_type": "markdown",
   "metadata": {},
   "source": []
  }
 ],
 "metadata": {
  "kernelspec": {
   "display_name": "sparrow",
   "language": "python",
   "name": "python3"
  },
  "language_info": {
   "codemirror_mode": {
    "name": "ipython",
    "version": 3
   },
   "file_extension": ".py",
   "mimetype": "text/x-python",
   "name": "python",
   "nbconvert_exporter": "python",
   "pygments_lexer": "ipython3",
   "version": "3.10.12"
  }
 },
 "nbformat": 4,
 "nbformat_minor": 2
}
