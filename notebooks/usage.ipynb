{
 "cells": [
  {
   "cell_type": "markdown",
   "metadata": {},
   "source": [
    "### Status (03/22/2024)\n",
    "- no existing library fulfills all requirements \n",
    "- core problem: model firmly baked into code everywhere in all of them\n",
    "- we had to start from a very low level:\n",
    "  - only able to analyze files\n",
    "  - core necessary parts:\n",
    "    - abstractions for recording, preprocessor, model \n",
    "    - model, preprocessing disentangled from rest => allows runtime replacement of model\n",
    "  \n",
    "- currently there: \n",
    "  - [x] model, preprocessor abstractions \n",
    "  - [x] disentanglement of data and analysis => allows exchange of analysis part \n",
    "  - [x] integration of core birdnet functionality back \n",
    "  - runs in python from prerecorded files \n",
    "  \n",
    "- not yet there: \n",
    "  - user interface \n",
    "  - integrated system that would 'run alone'  \n",
    "    - `birdnetlib` provides at the very least starting points \n",
    "  - documentation\n",
    "  - no support for pytorch"
   ]
  },
  {
   "cell_type": "markdown",
   "metadata": {},
   "source": [
    "### Code example"
   ]
  },
  {
   "cell_type": "markdown",
   "metadata": {},
   "source": [
    "clone repo and install first from repo directory `python3 -m pip install .`"
   ]
  },
  {
   "cell_type": "code",
   "execution_count": null,
   "metadata": {},
   "outputs": [],
   "source": [
    "import sys \n",
    "sys.path.append(\"..\")\n",
    "import iSparrow.sparrow_model_base as spm\n",
    "import iSparrow.sparrow_recording as spr\n",
    "import iSparrow.preprocessor_base as spb\n",
    "import iSparrow.utils as utils\n",
    "import IPython\n",
    "\n",
    "import tests.set_up_sparrow_env as sp"
   ]
  },
  {
   "cell_type": "code",
   "execution_count": null,
   "metadata": {},
   "outputs": [],
   "source": [
    "from pathlib import Path\n",
    "import pandas as pd"
   ]
  },
  {
   "cell_type": "code",
   "execution_count": null,
   "metadata": {},
   "outputs": [],
   "source": [
    "# make a mock install of sparrow. will be invisible in the future\n",
    "sp.install()"
   ]
  },
  {
   "cell_type": "markdown",
   "metadata": {},
   "source": [
    "### Demo\n",
    "\n",
    "- load model, preprocessor you want \n",
    "- add recording to be analyzed and assign it the model, preprocessor to use \n",
    "- analyze "
   ]
  },
  {
   "cell_type": "code",
   "execution_count": null,
   "metadata": {},
   "outputs": [],
   "source": [
    "# variables for analysis\n",
    "sigmoid_sensitivity = 1.0\n",
    "num_threads = 12\n",
    "min_conf = 0.25\n",
    "\n",
    "# variables for recording\n",
    "recording_path = sp.EXAMPLES / \"soundscape.wav\"\n",
    "sample_rate = 48000\n",
    "overlap = 0.0\n",
    "sample_secs = 3.0\n",
    "resample_type = \"kaiser_fast\""
   ]
  },
  {
   "cell_type": "code",
   "execution_count": null,
   "metadata": {},
   "outputs": [],
   "source": [
    "ppd = utils.load_module(\"ppm\", sp.MODELS / Path(\"birdnet_default\") / \"preprocessor.py\")"
   ]
  },
  {
   "cell_type": "code",
   "execution_count": null,
   "metadata": {},
   "outputs": [],
   "source": [
    "md = utils.load_module(\"md\", sp.MODELS / Path(\"birdnet_default\") / \"model.py\")"
   ]
  },
  {
   "cell_type": "code",
   "execution_count": null,
   "metadata": {},
   "outputs": [],
   "source": [
    "preprocessor = ppd.Preprocessor(sample_rate=sample_rate, overlap=overlap, sample_secs=sample_secs, resample_type=resample_type)\n",
    "\n",
    "model = md.Model(sp.MODELS / \"birdnet_default\", num_threads=5, sigmoid_sensitivity=1.)"
   ]
  },
  {
   "cell_type": "code",
   "execution_count": null,
   "metadata": {},
   "outputs": [],
   "source": [
    "recording = spr.SparrowRecording(preprocessor, model, sp.EXAMPLES / \"soundscape.wav\", min_conf=min_conf)"
   ]
  },
  {
   "cell_type": "code",
   "execution_count": null,
   "metadata": {},
   "outputs": [],
   "source": [
    "recording.analyze()"
   ]
  },
  {
   "cell_type": "code",
   "execution_count": null,
   "metadata": {},
   "outputs": [],
   "source": [
    "IPython.display.Audio(sp.EXAMPLES / \"soundscape.wav\")"
   ]
  },
  {
   "cell_type": "code",
   "execution_count": null,
   "metadata": {},
   "outputs": [],
   "source": [
    "pd.DataFrame(recording.detections)"
   ]
  },
  {
   "cell_type": "code",
   "execution_count": null,
   "metadata": {},
   "outputs": [],
   "source": [
    "ppc = utils.load_module(\"ppm\", sp.MODELS / Path(\"birdnet_custom\") / \"preprocessor.py\")\n",
    "mc = utils.load_module(\"md\", sp.MODELS / Path(\"birdnet_custom\") / \"model.py\")"
   ]
  },
  {
   "cell_type": "markdown",
   "metadata": {},
   "source": [
    "### Support for Birdnet's transfer learning approach \n",
    "\n",
    "- train a new classifier in birdnet itself (port of training logic to sparrow possible, but low priority atm)\n",
    "\n",
    "- use in conjunction with the default model \n",
    "\n",
    "- **does allow for appending new species to existing list, including mammals**"
   ]
  },
  {
   "cell_type": "code",
   "execution_count": null,
   "metadata": {},
   "outputs": [],
   "source": [
    "preprocessor = ppc.Preprocessor(sample_rate=sample_rate, overlap=overlap, sample_secs=sample_secs, resample_type=resample_type)\n",
    "\n",
    "model = mc.Model(default_model_path=sp.MODELS / \"birdnet_default\", model_path=sp.MODELS / \"birdnet_custom\", num_threads=5, sigmoid_sensitivity=1.)"
   ]
  },
  {
   "cell_type": "code",
   "execution_count": null,
   "metadata": {},
   "outputs": [],
   "source": [
    "recording = spr.SparrowRecording(preprocessor, model, sp.EXAMPLES / \"soundscape.wav\", min_conf=min_conf)"
   ]
  },
  {
   "cell_type": "code",
   "execution_count": null,
   "metadata": {},
   "outputs": [],
   "source": [
    "recording.analyze()"
   ]
  },
  {
   "cell_type": "code",
   "execution_count": null,
   "metadata": {},
   "outputs": [],
   "source": [
    "pd.DataFrame(recording.detections)"
   ]
  },
  {
   "cell_type": "markdown",
   "metadata": {},
   "source": [
    "### Load a different model into an existing recording instance\n",
    "\n",
    "- read module that contains the model, preprocessor during program execution\n",
    "- build preprocessor\n",
    "- build model\n",
    "- change model, preprocessor to new one, reset recording\n",
    "- analyze\n",
    "- change model upon request\n",
    "- analyze again.."
   ]
  },
  {
   "cell_type": "code",
   "execution_count": null,
   "metadata": {},
   "outputs": [],
   "source": [
    "ppc = utils.load_module(\"ppm\", sp.MODELS / Path(\"google_perch\") / \"preprocessor.py\")\n",
    "mc = utils.load_module(\"md\", sp.MODELS / Path(\"google_perch\") / \"model.py\")"
   ]
  },
  {
   "cell_type": "code",
   "execution_count": null,
   "metadata": {},
   "outputs": [],
   "source": [
    "preprocessor = ppc.Preprocessor(sample_rate=32000, sample_secs=5., resample_type=resample_type)\n",
    "model = mc.Model(model_path=sp.MODELS / \"google_perch\", num_threads=5)"
   ]
  },
  {
   "cell_type": "code",
   "execution_count": null,
   "metadata": {},
   "outputs": [],
   "source": [
    "recording = spr.SparrowRecording(preprocessor, model, sp.EXAMPLES / \"soundscape.wav\", min_conf=min_conf)"
   ]
  },
  {
   "cell_type": "code",
   "execution_count": null,
   "metadata": {},
   "outputs": [],
   "source": [
    "recording.analyze()"
   ]
  },
  {
   "cell_type": "code",
   "execution_count": null,
   "metadata": {},
   "outputs": [],
   "source": [
    "pd.DataFrame(recording.detections)"
   ]
  },
  {
   "cell_type": "code",
   "execution_count": null,
   "metadata": {},
   "outputs": [],
   "source": [
    "ppc = utils.load_module(\"ppm\", sp.MODELS / Path(\"birdnet_default\") / \"preprocessor.py\")\n",
    "mc = utils.load_module(\"md\", sp.MODELS / Path(\"birdnet_default\") / \"model.py\")\n",
    "\n",
    "preprocessor = ppd.Preprocessor(sample_rate=sample_rate, overlap=overlap, sample_secs=sample_secs, resample_type=resample_type)\n",
    "\n",
    "model = md.Model(sp.MODELS / \"birdnet_default\", num_threads=5, sigmoid_sensitivity=1.)\n",
    "\n",
    "recording.set_analyzer(model, preprocessor)\n",
    "\n",
    "print(recording.analyzer.name)\n",
    "print(recording.processor.name, recording.processor.sample_rate)"
   ]
  },
  {
   "cell_type": "code",
   "execution_count": null,
   "metadata": {},
   "outputs": [],
   "source": [
    "recording.analyze()"
   ]
  },
  {
   "cell_type": "code",
   "execution_count": null,
   "metadata": {},
   "outputs": [],
   "source": [
    "pd.DataFrame(recording.detections)"
   ]
  },
  {
   "cell_type": "markdown",
   "metadata": {},
   "source": [
    "### Current concept for usage in final deployment \n",
    "\n",
    "- bundle model file with implementations of `model`, `preprocessor` derived from a base provided by sparrow. ==> Scientist \n",
    "- upload models to huggingface\n",
    "- give url or model name to Sparrow\n",
    "  - Sparrow handles caching of models so they aren't downloaded again\n",
    "- execute procedure above in an encapsulated way \n",
    "- shouldn't create gap in data acquisition?"
   ]
  }
 ],
 "metadata": {
  "kernelspec": {
   "display_name": "Python 3 (ipykernel)",
   "language": "python",
   "name": "python3"
  },
  "language_info": {
   "codemirror_mode": {
    "name": "ipython",
    "version": 3
   },
   "file_extension": ".py",
   "mimetype": "text/x-python",
   "name": "python",
   "nbconvert_exporter": "python",
   "pygments_lexer": "ipython3",
   "version": "3.11.8"
  }
 },
 "nbformat": 4,
 "nbformat_minor": 4
}
