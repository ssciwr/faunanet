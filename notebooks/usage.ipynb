{
 "cells": [
  {
   "cell_type": "markdown",
   "metadata": {},
   "source": [
    "### Status\n",
    "- no existing library fulfills all requirements \n",
    "- core problem: model firmly baked into code everywhere in all of them\n",
    "- no integrated runable system ready at the moment\n",
    "- no user interface\n",
    "- only able to analyze files\n",
    "- core necessary parts:\n",
    "  - abstractions for recording, preprocessor, model \n",
    "  - model, preprocessing disentangled from rest => allows runtime replacement of model\n",
    "  \n",
    "- `birdnetlib` provides at the very least starting points for continously running service via `arecord` on linux and for the missint nuts and bolts "
   ]
  },
  {
   "cell_type": "markdown",
   "metadata": {},
   "source": [
    "### Code example"
   ]
  },
  {
   "cell_type": "code",
   "execution_count": 1,
   "metadata": {},
   "outputs": [
    {
     "name": "stderr",
     "output_type": "stream",
     "text": [
      "2024-03-21 23:00:34.030701: I tensorflow/core/platform/cpu_feature_guard.cc:210] This TensorFlow binary is optimized to use available CPU instructions in performance-critical operations.\n",
      "To enable the following instructions: AVX2 FMA, in other operations, rebuild TensorFlow with the appropriate compiler flags.\n"
     ]
    }
   ],
   "source": [
    "import iSparrow.sparrow_model_base as spm\n",
    "import iSparrow.sparrow_recording as spr\n",
    "import iSparrow.preprocessor_base as spb\n",
    "import iSparrow.utils as utils\n",
    "\n",
    "import install_sparrow as sp"
   ]
  },
  {
   "cell_type": "code",
   "execution_count": 2,
   "metadata": {},
   "outputs": [],
   "source": [
    "from pathlib import Path\n",
    "import pandas as pd"
   ]
  },
  {
   "cell_type": "code",
   "execution_count": 3,
   "metadata": {},
   "outputs": [
    {
     "name": "stdout",
     "output_type": "stream",
     "text": [
      "Creating iSparrow folders and downloading data... \n",
      "...reading config from /Users/haraldmack/Development/iSparrow/config/install_cfg.yml\n",
      "...Making direcotries...\n",
      "/Users/haraldmack/iSparrow /Users/haraldmack/iSparrow/models /Users/haraldmack/iSparrow_data /Users/haraldmack/iSparrow_output /Users/haraldmack/iSparrow/example\n",
      "... Downloading model files...\n",
      "... Downloading example files...\n",
      "Installation finished\n"
     ]
    }
   ],
   "source": [
    "# make a mock install of sparrow\n",
    "sp.install()"
   ]
  },
  {
   "cell_type": "code",
   "execution_count": 4,
   "metadata": {},
   "outputs": [],
   "source": [
    "# variables for analysis\n",
    "sigmoid_sensitivity = 1.0\n",
    "num_threads = 12\n",
    "min_conf = 0.25\n",
    "\n",
    "# variables for recording\n",
    "recording_path = sp.EXAMPLES / \"soundscape.wav\"\n",
    "sample_rate = 48000\n",
    "overlap = 0.0\n",
    "sample_secs = 3.0\n",
    "resample_type = \"kaiser_fast\""
   ]
  },
  {
   "cell_type": "markdown",
   "metadata": {},
   "source": [
    "#### steps\n",
    "- read module defined as input \n",
    "- build preprocessor\n",
    "- build model \n",
    "- build recording instance from them \n",
    "- analyze"
   ]
  },
  {
   "cell_type": "markdown",
   "metadata": {},
   "source": []
  },
  {
   "cell_type": "code",
   "execution_count": 5,
   "metadata": {},
   "outputs": [],
   "source": [
    "ppd = utils.load_module(\"ppm\", sp.MODELS / Path(\"birdnet_default\") / \"preprocessor.py\")"
   ]
  },
  {
   "cell_type": "code",
   "execution_count": 6,
   "metadata": {},
   "outputs": [],
   "source": [
    "md = utils.load_module(\"md\", sp.MODELS / Path(\"birdnet_default\") / \"model.py\")"
   ]
  },
  {
   "cell_type": "code",
   "execution_count": 7,
   "metadata": {},
   "outputs": [
    {
     "name": "stdout",
     "output_type": "stream",
     "text": [
      "Labels loaded.\n"
     ]
    }
   ],
   "source": [
    "preprocessor = ppd.Preprocessor(sample_rate=sample_rate, overlap=overlap, sample_secs=sample_secs, resample_type=resample_type)\n",
    "\n",
    "model = md.Model(sp.MODELS / \"birdnet_default\", num_threads=5, sigmoid_sensitivity=1.)"
   ]
  },
  {
   "cell_type": "code",
   "execution_count": 8,
   "metadata": {},
   "outputs": [],
   "source": [
    "recording = spr.SparrowRecording(preprocessor, model, sp.EXAMPLES / \"soundscape.wav\", min_conf=min_conf)"
   ]
  },
  {
   "cell_type": "code",
   "execution_count": 9,
   "metadata": {},
   "outputs": [
    {
     "name": "stdout",
     "output_type": "stream",
     "text": [
      "read audio data of duration 120.0 from /Users/haraldmack/iSparrow/example/soundscape.wav with sampling rate 48000\n",
      "process audio data custom\n",
      "process audio data custom: complete, read  40 chunks.\n",
      "name of model:  birdnet_default_model\n"
     ]
    },
    {
     "name": "stderr",
     "output_type": "stream",
     "text": [
      "INFO: Created TensorFlow Lite XNNPACK delegate for CPU.\n",
      "WARNING: Attempting to use a delegate that only supports static-sized tensors with a graph that has dynamic-sized tensors (tensor#187 is a dynamic-sized tensor).\n"
     ]
    }
   ],
   "source": [
    "recording.analyze()"
   ]
  },
  {
   "cell_type": "code",
   "execution_count": 10,
   "metadata": {},
   "outputs": [
    {
     "data": {
      "text/html": [
       "<div>\n",
       "<style scoped>\n",
       "    .dataframe tbody tr th:only-of-type {\n",
       "        vertical-align: middle;\n",
       "    }\n",
       "\n",
       "    .dataframe tbody tr th {\n",
       "        vertical-align: top;\n",
       "    }\n",
       "\n",
       "    .dataframe thead th {\n",
       "        text-align: right;\n",
       "    }\n",
       "</style>\n",
       "<table border=\"1\" class=\"dataframe\">\n",
       "  <thead>\n",
       "    <tr style=\"text-align: right;\">\n",
       "      <th></th>\n",
       "      <th>start</th>\n",
       "      <th>end</th>\n",
       "      <th>label</th>\n",
       "      <th>confidence</th>\n",
       "    </tr>\n",
       "  </thead>\n",
       "  <tbody>\n",
       "    <tr>\n",
       "      <th>0</th>\n",
       "      <td>0.0</td>\n",
       "      <td>3.0</td>\n",
       "      <td>Poecile atricapillus_Black-capped Chickadee</td>\n",
       "      <td>0.814056</td>\n",
       "    </tr>\n",
       "    <tr>\n",
       "      <th>1</th>\n",
       "      <td>3.0</td>\n",
       "      <td>6.0</td>\n",
       "      <td>Poecile atricapillus_Black-capped Chickadee</td>\n",
       "      <td>0.308286</td>\n",
       "    </tr>\n",
       "    <tr>\n",
       "      <th>2</th>\n",
       "      <td>9.0</td>\n",
       "      <td>12.0</td>\n",
       "      <td>Haemorhous mexicanus_House Finch</td>\n",
       "      <td>0.639378</td>\n",
       "    </tr>\n",
       "    <tr>\n",
       "      <th>3</th>\n",
       "      <td>18.0</td>\n",
       "      <td>21.0</td>\n",
       "      <td>Cyanocitta cristata_Blue Jay</td>\n",
       "      <td>0.435271</td>\n",
       "    </tr>\n",
       "    <tr>\n",
       "      <th>4</th>\n",
       "      <td>18.0</td>\n",
       "      <td>21.0</td>\n",
       "      <td>Clamator coromandus_Chestnut-winged Cuckoo</td>\n",
       "      <td>0.322587</td>\n",
       "    </tr>\n",
       "    <tr>\n",
       "      <th>5</th>\n",
       "      <td>21.0</td>\n",
       "      <td>24.0</td>\n",
       "      <td>Cyanocitta cristata_Blue Jay</td>\n",
       "      <td>0.329086</td>\n",
       "    </tr>\n",
       "    <tr>\n",
       "      <th>6</th>\n",
       "      <td>27.0</td>\n",
       "      <td>30.0</td>\n",
       "      <td>Falco columbarius_Merlin</td>\n",
       "      <td>0.265653</td>\n",
       "    </tr>\n",
       "    <tr>\n",
       "      <th>7</th>\n",
       "      <td>33.0</td>\n",
       "      <td>36.0</td>\n",
       "      <td>Junco hyemalis_Dark-eyed Junco</td>\n",
       "      <td>0.459063</td>\n",
       "    </tr>\n",
       "    <tr>\n",
       "      <th>8</th>\n",
       "      <td>36.0</td>\n",
       "      <td>39.0</td>\n",
       "      <td>Junco hyemalis_Dark-eyed Junco</td>\n",
       "      <td>0.353685</td>\n",
       "    </tr>\n",
       "    <tr>\n",
       "      <th>9</th>\n",
       "      <td>39.0</td>\n",
       "      <td>42.0</td>\n",
       "      <td>Haemorhous mexicanus_House Finch</td>\n",
       "      <td>0.253251</td>\n",
       "    </tr>\n",
       "    <tr>\n",
       "      <th>10</th>\n",
       "      <td>42.0</td>\n",
       "      <td>45.0</td>\n",
       "      <td>Junco hyemalis_Dark-eyed Junco</td>\n",
       "      <td>0.737543</td>\n",
       "    </tr>\n",
       "    <tr>\n",
       "      <th>11</th>\n",
       "      <td>51.0</td>\n",
       "      <td>54.0</td>\n",
       "      <td>Haemorhous mexicanus_House Finch</td>\n",
       "      <td>0.256404</td>\n",
       "    </tr>\n",
       "    <tr>\n",
       "      <th>12</th>\n",
       "      <td>54.0</td>\n",
       "      <td>57.0</td>\n",
       "      <td>Haemorhous mexicanus_House Finch</td>\n",
       "      <td>0.607066</td>\n",
       "    </tr>\n",
       "    <tr>\n",
       "      <th>13</th>\n",
       "      <td>60.0</td>\n",
       "      <td>63.0</td>\n",
       "      <td>Junco hyemalis_Dark-eyed Junco</td>\n",
       "      <td>0.554988</td>\n",
       "    </tr>\n",
       "    <tr>\n",
       "      <th>14</th>\n",
       "      <td>69.0</td>\n",
       "      <td>72.0</td>\n",
       "      <td>Haemorhous mexicanus_House Finch</td>\n",
       "      <td>0.291472</td>\n",
       "    </tr>\n",
       "    <tr>\n",
       "      <th>15</th>\n",
       "      <td>72.0</td>\n",
       "      <td>75.0</td>\n",
       "      <td>Haemorhous mexicanus_House Finch</td>\n",
       "      <td>0.563847</td>\n",
       "    </tr>\n",
       "    <tr>\n",
       "      <th>16</th>\n",
       "      <td>78.0</td>\n",
       "      <td>81.0</td>\n",
       "      <td>Haemorhous mexicanus_House Finch</td>\n",
       "      <td>0.256069</td>\n",
       "    </tr>\n",
       "    <tr>\n",
       "      <th>17</th>\n",
       "      <td>81.0</td>\n",
       "      <td>84.0</td>\n",
       "      <td>Coccothraustes coccothraustes_Hawfinch</td>\n",
       "      <td>0.280363</td>\n",
       "    </tr>\n",
       "    <tr>\n",
       "      <th>18</th>\n",
       "      <td>84.0</td>\n",
       "      <td>87.0</td>\n",
       "      <td>Haemorhous mexicanus_House Finch</td>\n",
       "      <td>0.280101</td>\n",
       "    </tr>\n",
       "    <tr>\n",
       "      <th>19</th>\n",
       "      <td>90.0</td>\n",
       "      <td>93.0</td>\n",
       "      <td>Spinus tristis_American Goldfinch</td>\n",
       "      <td>0.419035</td>\n",
       "    </tr>\n",
       "    <tr>\n",
       "      <th>20</th>\n",
       "      <td>93.0</td>\n",
       "      <td>96.0</td>\n",
       "      <td>Haemorhous mexicanus_House Finch</td>\n",
       "      <td>0.316835</td>\n",
       "    </tr>\n",
       "    <tr>\n",
       "      <th>21</th>\n",
       "      <td>96.0</td>\n",
       "      <td>99.0</td>\n",
       "      <td>Spinus tristis_American Goldfinch</td>\n",
       "      <td>0.476515</td>\n",
       "    </tr>\n",
       "    <tr>\n",
       "      <th>22</th>\n",
       "      <td>102.0</td>\n",
       "      <td>105.0</td>\n",
       "      <td>Haemorhous mexicanus_House Finch</td>\n",
       "      <td>0.445893</td>\n",
       "    </tr>\n",
       "    <tr>\n",
       "      <th>23</th>\n",
       "      <td>111.0</td>\n",
       "      <td>114.0</td>\n",
       "      <td>Engine_Engine</td>\n",
       "      <td>0.516839</td>\n",
       "    </tr>\n",
       "    <tr>\n",
       "      <th>24</th>\n",
       "      <td>117.0</td>\n",
       "      <td>120.0</td>\n",
       "      <td>Spinus tristis_American Goldfinch</td>\n",
       "      <td>0.392395</td>\n",
       "    </tr>\n",
       "  </tbody>\n",
       "</table>\n",
       "</div>"
      ],
      "text/plain": [
       "    start    end                                        label  confidence\n",
       "0     0.0    3.0  Poecile atricapillus_Black-capped Chickadee    0.814056\n",
       "1     3.0    6.0  Poecile atricapillus_Black-capped Chickadee    0.308286\n",
       "2     9.0   12.0             Haemorhous mexicanus_House Finch    0.639378\n",
       "3    18.0   21.0                 Cyanocitta cristata_Blue Jay    0.435271\n",
       "4    18.0   21.0   Clamator coromandus_Chestnut-winged Cuckoo    0.322587\n",
       "5    21.0   24.0                 Cyanocitta cristata_Blue Jay    0.329086\n",
       "6    27.0   30.0                     Falco columbarius_Merlin    0.265653\n",
       "7    33.0   36.0               Junco hyemalis_Dark-eyed Junco    0.459063\n",
       "8    36.0   39.0               Junco hyemalis_Dark-eyed Junco    0.353685\n",
       "9    39.0   42.0             Haemorhous mexicanus_House Finch    0.253251\n",
       "10   42.0   45.0               Junco hyemalis_Dark-eyed Junco    0.737543\n",
       "11   51.0   54.0             Haemorhous mexicanus_House Finch    0.256404\n",
       "12   54.0   57.0             Haemorhous mexicanus_House Finch    0.607066\n",
       "13   60.0   63.0               Junco hyemalis_Dark-eyed Junco    0.554988\n",
       "14   69.0   72.0             Haemorhous mexicanus_House Finch    0.291472\n",
       "15   72.0   75.0             Haemorhous mexicanus_House Finch    0.563847\n",
       "16   78.0   81.0             Haemorhous mexicanus_House Finch    0.256069\n",
       "17   81.0   84.0       Coccothraustes coccothraustes_Hawfinch    0.280363\n",
       "18   84.0   87.0             Haemorhous mexicanus_House Finch    0.280101\n",
       "19   90.0   93.0            Spinus tristis_American Goldfinch    0.419035\n",
       "20   93.0   96.0             Haemorhous mexicanus_House Finch    0.316835\n",
       "21   96.0   99.0            Spinus tristis_American Goldfinch    0.476515\n",
       "22  102.0  105.0             Haemorhous mexicanus_House Finch    0.445893\n",
       "23  111.0  114.0                                Engine_Engine    0.516839\n",
       "24  117.0  120.0            Spinus tristis_American Goldfinch    0.392395"
      ]
     },
     "execution_count": 10,
     "metadata": {},
     "output_type": "execute_result"
    }
   ],
   "source": [
    "pd.DataFrame(recording.detections)"
   ]
  },
  {
   "cell_type": "markdown",
   "metadata": {},
   "source": [
    "#### Load a different model"
   ]
  },
  {
   "cell_type": "code",
   "execution_count": 11,
   "metadata": {},
   "outputs": [],
   "source": [
    "ppc = utils.load_module(\"ppm\", sp.MODELS / Path(\"birdnet_custom\") / \"preprocessor.py\")\n",
    "mc = utils.load_module(\"md\", sp.MODELS / Path(\"birdnet_custom\") / \"model.py\")"
   ]
  },
  {
   "cell_type": "code",
   "execution_count": 12,
   "metadata": {},
   "outputs": [
    {
     "name": "stdout",
     "output_type": "stream",
     "text": [
      "Default classifier loaded\n",
      "Custom classifier loaded\n",
      "Labels loaded.\n"
     ]
    }
   ],
   "source": [
    "preprocessor = ppc.Preprocessor(sample_rate=sample_rate, overlap=overlap, sample_secs=sample_secs, resample_type=resample_type)\n",
    "\n",
    "model = mc.Model(default_model_path=sp.MODELS / \"birdnet_default\", model_path=sp.MODELS / \"birdnet_custom\", num_threads=5, sigmoid_sensitivity=1.)"
   ]
  },
  {
   "cell_type": "code",
   "execution_count": 13,
   "metadata": {},
   "outputs": [],
   "source": [
    "recording = spr.SparrowRecording(preprocessor, model, sp.EXAMPLES / \"soundscape.wav\", min_conf=min_conf)"
   ]
  },
  {
   "cell_type": "code",
   "execution_count": 14,
   "metadata": {},
   "outputs": [
    {
     "name": "stdout",
     "output_type": "stream",
     "text": [
      "read audio data of duration 120.0 from /Users/haraldmack/iSparrow/example/soundscape.wav with sampling rate 48000\n",
      "process audio data custom\n",
      "process audio data custom: complete, read  40 chunks.\n",
      "name of model:  birdnet_custom_model\n"
     ]
    }
   ],
   "source": [
    "recording.analyze()"
   ]
  },
  {
   "cell_type": "code",
   "execution_count": 15,
   "metadata": {},
   "outputs": [
    {
     "data": {
      "text/html": [
       "<div>\n",
       "<style scoped>\n",
       "    .dataframe tbody tr th:only-of-type {\n",
       "        vertical-align: middle;\n",
       "    }\n",
       "\n",
       "    .dataframe tbody tr th {\n",
       "        vertical-align: top;\n",
       "    }\n",
       "\n",
       "    .dataframe thead th {\n",
       "        text-align: right;\n",
       "    }\n",
       "</style>\n",
       "<table border=\"1\" class=\"dataframe\">\n",
       "  <thead>\n",
       "    <tr style=\"text-align: right;\">\n",
       "      <th></th>\n",
       "      <th>start</th>\n",
       "      <th>end</th>\n",
       "      <th>label</th>\n",
       "      <th>confidence</th>\n",
       "    </tr>\n",
       "  </thead>\n",
       "  <tbody>\n",
       "    <tr>\n",
       "      <th>0</th>\n",
       "      <td>0.0</td>\n",
       "      <td>3.0</td>\n",
       "      <td>Poecile atricapillus_Black-capped Chickadee</td>\n",
       "      <td>0.956534</td>\n",
       "    </tr>\n",
       "    <tr>\n",
       "      <th>1</th>\n",
       "      <td>3.0</td>\n",
       "      <td>6.0</td>\n",
       "      <td>Poecile atricapillus_Black-capped Chickadee</td>\n",
       "      <td>0.655960</td>\n",
       "    </tr>\n",
       "    <tr>\n",
       "      <th>2</th>\n",
       "      <td>6.0</td>\n",
       "      <td>9.0</td>\n",
       "      <td>Junco hyemalis_Dark-eyed Junco</td>\n",
       "      <td>0.383827</td>\n",
       "    </tr>\n",
       "    <tr>\n",
       "      <th>3</th>\n",
       "      <td>15.0</td>\n",
       "      <td>18.0</td>\n",
       "      <td>Cyanocitta cristata_Blue Jay</td>\n",
       "      <td>0.510273</td>\n",
       "    </tr>\n",
       "    <tr>\n",
       "      <th>4</th>\n",
       "      <td>18.0</td>\n",
       "      <td>21.0</td>\n",
       "      <td>Cyanocitta cristata_Blue Jay</td>\n",
       "      <td>0.980540</td>\n",
       "    </tr>\n",
       "    <tr>\n",
       "      <th>5</th>\n",
       "      <td>21.0</td>\n",
       "      <td>24.0</td>\n",
       "      <td>Cyanocitta cristata_Blue Jay</td>\n",
       "      <td>0.979032</td>\n",
       "    </tr>\n",
       "    <tr>\n",
       "      <th>6</th>\n",
       "      <td>24.0</td>\n",
       "      <td>27.0</td>\n",
       "      <td>Cyanocitta cristata_Blue Jay</td>\n",
       "      <td>0.598468</td>\n",
       "    </tr>\n",
       "    <tr>\n",
       "      <th>7</th>\n",
       "      <td>27.0</td>\n",
       "      <td>30.0</td>\n",
       "      <td>Cyanocitta cristata_Blue Jay</td>\n",
       "      <td>0.496739</td>\n",
       "    </tr>\n",
       "    <tr>\n",
       "      <th>8</th>\n",
       "      <td>27.0</td>\n",
       "      <td>30.0</td>\n",
       "      <td>Junco hyemalis_Dark-eyed Junco</td>\n",
       "      <td>0.327117</td>\n",
       "    </tr>\n",
       "    <tr>\n",
       "      <th>9</th>\n",
       "      <td>30.0</td>\n",
       "      <td>33.0</td>\n",
       "      <td>Junco hyemalis_Dark-eyed Junco</td>\n",
       "      <td>0.310007</td>\n",
       "    </tr>\n",
       "    <tr>\n",
       "      <th>10</th>\n",
       "      <td>33.0</td>\n",
       "      <td>36.0</td>\n",
       "      <td>Junco hyemalis_Dark-eyed Junco</td>\n",
       "      <td>0.754211</td>\n",
       "    </tr>\n",
       "    <tr>\n",
       "      <th>11</th>\n",
       "      <td>36.0</td>\n",
       "      <td>39.0</td>\n",
       "      <td>Cyanocitta cristata_Blue Jay</td>\n",
       "      <td>0.489770</td>\n",
       "    </tr>\n",
       "    <tr>\n",
       "      <th>12</th>\n",
       "      <td>36.0</td>\n",
       "      <td>39.0</td>\n",
       "      <td>Junco hyemalis_Dark-eyed Junco</td>\n",
       "      <td>0.362317</td>\n",
       "    </tr>\n",
       "    <tr>\n",
       "      <th>13</th>\n",
       "      <td>39.0</td>\n",
       "      <td>42.0</td>\n",
       "      <td>Junco hyemalis_Dark-eyed Junco</td>\n",
       "      <td>0.380300</td>\n",
       "    </tr>\n",
       "    <tr>\n",
       "      <th>14</th>\n",
       "      <td>42.0</td>\n",
       "      <td>45.0</td>\n",
       "      <td>Junco hyemalis_Dark-eyed Junco</td>\n",
       "      <td>0.959955</td>\n",
       "    </tr>\n",
       "    <tr>\n",
       "      <th>15</th>\n",
       "      <td>45.0</td>\n",
       "      <td>48.0</td>\n",
       "      <td>Cyanocitta cristata_Blue Jay</td>\n",
       "      <td>0.562876</td>\n",
       "    </tr>\n",
       "    <tr>\n",
       "      <th>16</th>\n",
       "      <td>48.0</td>\n",
       "      <td>51.0</td>\n",
       "      <td>Cyanocitta cristata_Blue Jay</td>\n",
       "      <td>0.748828</td>\n",
       "    </tr>\n",
       "    <tr>\n",
       "      <th>17</th>\n",
       "      <td>54.0</td>\n",
       "      <td>57.0</td>\n",
       "      <td>Junco hyemalis_Dark-eyed Junco</td>\n",
       "      <td>0.421886</td>\n",
       "    </tr>\n",
       "    <tr>\n",
       "      <th>18</th>\n",
       "      <td>57.0</td>\n",
       "      <td>60.0</td>\n",
       "      <td>Cyanocitta cristata_Blue Jay</td>\n",
       "      <td>0.711954</td>\n",
       "    </tr>\n",
       "    <tr>\n",
       "      <th>19</th>\n",
       "      <td>60.0</td>\n",
       "      <td>63.0</td>\n",
       "      <td>Junco hyemalis_Dark-eyed Junco</td>\n",
       "      <td>0.677930</td>\n",
       "    </tr>\n",
       "    <tr>\n",
       "      <th>20</th>\n",
       "      <td>63.0</td>\n",
       "      <td>66.0</td>\n",
       "      <td>Junco hyemalis_Dark-eyed Junco</td>\n",
       "      <td>0.421559</td>\n",
       "    </tr>\n",
       "    <tr>\n",
       "      <th>21</th>\n",
       "      <td>81.0</td>\n",
       "      <td>84.0</td>\n",
       "      <td>Cardinalis cardinalis_Northern Cardinal</td>\n",
       "      <td>0.434931</td>\n",
       "    </tr>\n",
       "    <tr>\n",
       "      <th>22</th>\n",
       "      <td>99.0</td>\n",
       "      <td>102.0</td>\n",
       "      <td>Junco hyemalis_Dark-eyed Junco</td>\n",
       "      <td>0.288844</td>\n",
       "    </tr>\n",
       "  </tbody>\n",
       "</table>\n",
       "</div>"
      ],
      "text/plain": [
       "    start    end                                        label  confidence\n",
       "0     0.0    3.0  Poecile atricapillus_Black-capped Chickadee    0.956534\n",
       "1     3.0    6.0  Poecile atricapillus_Black-capped Chickadee    0.655960\n",
       "2     6.0    9.0               Junco hyemalis_Dark-eyed Junco    0.383827\n",
       "3    15.0   18.0                 Cyanocitta cristata_Blue Jay    0.510273\n",
       "4    18.0   21.0                 Cyanocitta cristata_Blue Jay    0.980540\n",
       "5    21.0   24.0                 Cyanocitta cristata_Blue Jay    0.979032\n",
       "6    24.0   27.0                 Cyanocitta cristata_Blue Jay    0.598468\n",
       "7    27.0   30.0                 Cyanocitta cristata_Blue Jay    0.496739\n",
       "8    27.0   30.0               Junco hyemalis_Dark-eyed Junco    0.327117\n",
       "9    30.0   33.0               Junco hyemalis_Dark-eyed Junco    0.310007\n",
       "10   33.0   36.0               Junco hyemalis_Dark-eyed Junco    0.754211\n",
       "11   36.0   39.0                 Cyanocitta cristata_Blue Jay    0.489770\n",
       "12   36.0   39.0               Junco hyemalis_Dark-eyed Junco    0.362317\n",
       "13   39.0   42.0               Junco hyemalis_Dark-eyed Junco    0.380300\n",
       "14   42.0   45.0               Junco hyemalis_Dark-eyed Junco    0.959955\n",
       "15   45.0   48.0                 Cyanocitta cristata_Blue Jay    0.562876\n",
       "16   48.0   51.0                 Cyanocitta cristata_Blue Jay    0.748828\n",
       "17   54.0   57.0               Junco hyemalis_Dark-eyed Junco    0.421886\n",
       "18   57.0   60.0                 Cyanocitta cristata_Blue Jay    0.711954\n",
       "19   60.0   63.0               Junco hyemalis_Dark-eyed Junco    0.677930\n",
       "20   63.0   66.0               Junco hyemalis_Dark-eyed Junco    0.421559\n",
       "21   81.0   84.0      Cardinalis cardinalis_Northern Cardinal    0.434931\n",
       "22   99.0  102.0               Junco hyemalis_Dark-eyed Junco    0.288844"
      ]
     },
     "execution_count": 15,
     "metadata": {},
     "output_type": "execute_result"
    }
   ],
   "source": [
    "pd.DataFrame(recording.detections)"
   ]
  },
  {
   "cell_type": "code",
   "execution_count": 16,
   "metadata": {},
   "outputs": [],
   "source": [
    "ppc = utils.load_module(\"ppm\", sp.MODELS / Path(\"google_perch\") / \"preprocessor.py\")\n",
    "mc = utils.load_module(\"md\", sp.MODELS / Path(\"google_perch\") / \"model.py\")"
   ]
  },
  {
   "cell_type": "code",
   "execution_count": 17,
   "metadata": {},
   "outputs": [
    {
     "name": "stdout",
     "output_type": "stream",
     "text": [
      "Labels loaded.\n"
     ]
    }
   ],
   "source": [
    "preprocessor = ppc.Preprocessor(sample_rate=32000, sample_secs=5., resample_type=resample_type)\n",
    "model = mc.Model(model_path=sp.MODELS / \"google_perch\", num_threads=5)"
   ]
  },
  {
   "cell_type": "code",
   "execution_count": 18,
   "metadata": {},
   "outputs": [],
   "source": [
    "recording = spr.SparrowRecording(preprocessor, model, sp.EXAMPLES / \"soundscape.wav\", min_conf=min_conf)"
   ]
  },
  {
   "cell_type": "code",
   "execution_count": 19,
   "metadata": {},
   "outputs": [
    {
     "name": "stdout",
     "output_type": "stream",
     "text": [
      "read audio data of duration 120.0 from /Users/haraldmack/iSparrow/example/soundscape.wav with sampling rate 32000\n",
      "process audio data custom \n",
      "process audio data google: complete, read  24 chunks.\n",
      "name of model:  google_perch_model\n"
     ]
    },
    {
     "name": "stderr",
     "output_type": "stream",
     "text": [
      "WARNING: All log messages before absl::InitializeLog() is called are written to STDERR\n",
      "I0000 00:00:1711058449.011199 2417314 service.cc:145] XLA service 0x7fae2e8e1450 initialized for platform Host (this does not guarantee that XLA will be used). Devices:\n",
      "I0000 00:00:1711058449.011249 2417314 service.cc:153]   StreamExecutor device (0): Host, Default Version\n",
      "I0000 00:00:1711058452.389379 2417314 device_compiler.h:188] Compiled cluster using XLA!  This line is logged at most once for the lifetime of the process.\n"
     ]
    }
   ],
   "source": [
    "recording.analyze()"
   ]
  },
  {
   "cell_type": "code",
   "execution_count": 20,
   "metadata": {},
   "outputs": [
    {
     "data": {
      "text/html": [
       "<div>\n",
       "<style scoped>\n",
       "    .dataframe tbody tr th:only-of-type {\n",
       "        vertical-align: middle;\n",
       "    }\n",
       "\n",
       "    .dataframe tbody tr th {\n",
       "        vertical-align: top;\n",
       "    }\n",
       "\n",
       "    .dataframe thead th {\n",
       "        text-align: right;\n",
       "    }\n",
       "</style>\n",
       "<table border=\"1\" class=\"dataframe\">\n",
       "  <thead>\n",
       "    <tr style=\"text-align: right;\">\n",
       "      <th></th>\n",
       "      <th>start</th>\n",
       "      <th>end</th>\n",
       "      <th>label</th>\n",
       "      <th>confidence</th>\n",
       "    </tr>\n",
       "  </thead>\n",
       "  <tbody>\n",
       "    <tr>\n",
       "      <th>0</th>\n",
       "      <td>0.0</td>\n",
       "      <td>5.0</td>\n",
       "      <td>bkcchi</td>\n",
       "      <td>0.502205</td>\n",
       "    </tr>\n",
       "    <tr>\n",
       "      <th>1</th>\n",
       "      <td>5.0</td>\n",
       "      <td>10.0</td>\n",
       "      <td>sonthr1</td>\n",
       "      <td>0.817928</td>\n",
       "    </tr>\n",
       "    <tr>\n",
       "      <th>2</th>\n",
       "      <td>10.0</td>\n",
       "      <td>15.0</td>\n",
       "      <td>tawowl1</td>\n",
       "      <td>0.345437</td>\n",
       "    </tr>\n",
       "    <tr>\n",
       "      <th>3</th>\n",
       "      <td>40.0</td>\n",
       "      <td>45.0</td>\n",
       "      <td>gretit1</td>\n",
       "      <td>0.343007</td>\n",
       "    </tr>\n",
       "    <tr>\n",
       "      <th>4</th>\n",
       "      <td>65.0</td>\n",
       "      <td>70.0</td>\n",
       "      <td>tawowl1</td>\n",
       "      <td>0.321463</td>\n",
       "    </tr>\n",
       "    <tr>\n",
       "      <th>5</th>\n",
       "      <td>75.0</td>\n",
       "      <td>80.0</td>\n",
       "      <td>tawowl1</td>\n",
       "      <td>0.351758</td>\n",
       "    </tr>\n",
       "    <tr>\n",
       "      <th>6</th>\n",
       "      <td>85.0</td>\n",
       "      <td>90.0</td>\n",
       "      <td>tawowl1</td>\n",
       "      <td>0.307805</td>\n",
       "    </tr>\n",
       "    <tr>\n",
       "      <th>7</th>\n",
       "      <td>85.0</td>\n",
       "      <td>90.0</td>\n",
       "      <td>eurrob1</td>\n",
       "      <td>0.261202</td>\n",
       "    </tr>\n",
       "    <tr>\n",
       "      <th>8</th>\n",
       "      <td>90.0</td>\n",
       "      <td>95.0</td>\n",
       "      <td>tawowl1</td>\n",
       "      <td>0.387926</td>\n",
       "    </tr>\n",
       "    <tr>\n",
       "      <th>9</th>\n",
       "      <td>105.0</td>\n",
       "      <td>110.0</td>\n",
       "      <td>tawowl1</td>\n",
       "      <td>0.310031</td>\n",
       "    </tr>\n",
       "    <tr>\n",
       "      <th>10</th>\n",
       "      <td>105.0</td>\n",
       "      <td>110.0</td>\n",
       "      <td>eurrob1</td>\n",
       "      <td>0.264471</td>\n",
       "    </tr>\n",
       "    <tr>\n",
       "      <th>11</th>\n",
       "      <td>115.0</td>\n",
       "      <td>120.0</td>\n",
       "      <td>tawowl1</td>\n",
       "      <td>0.314711</td>\n",
       "    </tr>\n",
       "    <tr>\n",
       "      <th>12</th>\n",
       "      <td>115.0</td>\n",
       "      <td>120.0</td>\n",
       "      <td>eurrob1</td>\n",
       "      <td>0.262638</td>\n",
       "    </tr>\n",
       "  </tbody>\n",
       "</table>\n",
       "</div>"
      ],
      "text/plain": [
       "    start    end    label  confidence\n",
       "0     0.0    5.0   bkcchi    0.502205\n",
       "1     5.0   10.0  sonthr1    0.817928\n",
       "2    10.0   15.0  tawowl1    0.345437\n",
       "3    40.0   45.0  gretit1    0.343007\n",
       "4    65.0   70.0  tawowl1    0.321463\n",
       "5    75.0   80.0  tawowl1    0.351758\n",
       "6    85.0   90.0  tawowl1    0.307805\n",
       "7    85.0   90.0  eurrob1    0.261202\n",
       "8    90.0   95.0  tawowl1    0.387926\n",
       "9   105.0  110.0  tawowl1    0.310031\n",
       "10  105.0  110.0  eurrob1    0.264471\n",
       "11  115.0  120.0  tawowl1    0.314711\n",
       "12  115.0  120.0  eurrob1    0.262638"
      ]
     },
     "execution_count": 20,
     "metadata": {},
     "output_type": "execute_result"
    }
   ],
   "source": [
    "pd.DataFrame(recording.detections)"
   ]
  },
  {
   "cell_type": "code",
   "execution_count": 22,
   "metadata": {},
   "outputs": [
    {
     "name": "stdout",
     "output_type": "stream",
     "text": [
      "Labels loaded.\n",
      "birdnet_default_model\n",
      "birdnet_defaults_preprocessor 48000\n"
     ]
    }
   ],
   "source": [
    "ppc = utils.load_module(\"ppm\", sp.MODELS / Path(\"birdnet_default\") / \"preprocessor.py\")\n",
    "mc = utils.load_module(\"md\", sp.MODELS / Path(\"birdnet_default\") / \"model.py\")\n",
    "\n",
    "preprocessor = ppd.Preprocessor(sample_rate=sample_rate, overlap=overlap, sample_secs=sample_secs, resample_type=resample_type)\n",
    "\n",
    "model = md.Model(sp.MODELS / \"birdnet_default\", num_threads=5, sigmoid_sensitivity=1.)\n",
    "\n",
    "recording.set_model_system(model, preprocessor)\n",
    "\n",
    "print(recording.analyzer.name)\n",
    "print(recording.processor.name, recording.processor.sample_rate)"
   ]
  },
  {
   "cell_type": "code",
   "execution_count": 23,
   "metadata": {},
   "outputs": [
    {
     "name": "stdout",
     "output_type": "stream",
     "text": [
      "read audio data of duration 120.0 from /Users/haraldmack/iSparrow/example/soundscape.wav with sampling rate 48000\n",
      "process audio data custom\n",
      "process audio data custom: complete, read  40 chunks.\n",
      "name of model:  birdnet_default_model\n"
     ]
    }
   ],
   "source": [
    "recording.analyze()"
   ]
  },
  {
   "cell_type": "code",
   "execution_count": 24,
   "metadata": {},
   "outputs": [
    {
     "name": "stdout",
     "output_type": "stream",
     "text": [
      "    start    end                                        label  confidence\n",
      "0     0.0    3.0  Poecile atricapillus_Black-capped Chickadee    0.814056\n",
      "1     3.0    6.0  Poecile atricapillus_Black-capped Chickadee    0.308286\n",
      "2     9.0   12.0             Haemorhous mexicanus_House Finch    0.639378\n",
      "3    18.0   21.0                 Cyanocitta cristata_Blue Jay    0.435271\n",
      "4    18.0   21.0   Clamator coromandus_Chestnut-winged Cuckoo    0.322587\n",
      "5    21.0   24.0                 Cyanocitta cristata_Blue Jay    0.329086\n",
      "6    27.0   30.0                     Falco columbarius_Merlin    0.265653\n",
      "7    33.0   36.0               Junco hyemalis_Dark-eyed Junco    0.459063\n",
      "8    36.0   39.0               Junco hyemalis_Dark-eyed Junco    0.353685\n",
      "9    39.0   42.0             Haemorhous mexicanus_House Finch    0.253251\n",
      "10   42.0   45.0               Junco hyemalis_Dark-eyed Junco    0.737543\n",
      "11   51.0   54.0             Haemorhous mexicanus_House Finch    0.256404\n",
      "12   54.0   57.0             Haemorhous mexicanus_House Finch    0.607066\n",
      "13   60.0   63.0               Junco hyemalis_Dark-eyed Junco    0.554988\n",
      "14   69.0   72.0             Haemorhous mexicanus_House Finch    0.291472\n",
      "15   72.0   75.0             Haemorhous mexicanus_House Finch    0.563847\n",
      "16   78.0   81.0             Haemorhous mexicanus_House Finch    0.256069\n",
      "17   81.0   84.0       Coccothraustes coccothraustes_Hawfinch    0.280363\n",
      "18   84.0   87.0             Haemorhous mexicanus_House Finch    0.280101\n",
      "19   90.0   93.0            Spinus tristis_American Goldfinch    0.419035\n",
      "20   93.0   96.0             Haemorhous mexicanus_House Finch    0.316835\n",
      "21   96.0   99.0            Spinus tristis_American Goldfinch    0.476515\n",
      "22  102.0  105.0             Haemorhous mexicanus_House Finch    0.445893\n",
      "23  111.0  114.0                                Engine_Engine    0.516839\n",
      "24  117.0  120.0            Spinus tristis_American Goldfinch    0.392395\n"
     ]
    }
   ],
   "source": [
    "print(pd.DataFrame(recording.detections))"
   ]
  },
  {
   "cell_type": "code",
   "execution_count": null,
   "metadata": {},
   "outputs": [],
   "source": []
  }
 ],
 "metadata": {
  "kernelspec": {
   "display_name": "sparrow",
   "language": "python",
   "name": "python3"
  },
  "language_info": {
   "codemirror_mode": {
    "name": "ipython",
    "version": 3
   },
   "file_extension": ".py",
   "mimetype": "text/x-python",
   "name": "python",
   "nbconvert_exporter": "python",
   "pygments_lexer": "ipython3",
   "version": "3.12.2"
  }
 },
 "nbformat": 4,
 "nbformat_minor": 2
}
