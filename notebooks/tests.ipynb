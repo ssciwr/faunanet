{
 "cells": [
  {
   "cell_type": "code",
   "execution_count": 57,
   "metadata": {},
   "outputs": [],
   "source": [
    "from datetime import datetime\n",
    "import time\n",
    "import logging\n",
    "from watchdog.observers import Observer\n",
    "from watchdog.events import LoggingEventHandler, FileSystemEventHandler\n",
    "from pathlib import Path\n",
    "import tests.set_up_sparrow_env as sp\n",
    "import iSparrow.utils as utils\n",
    "from iSparrow import ModelBase\n",
    "from iSparrow import PreprocessorBase\n",
    "import sys\n",
    "\n",
    "sys.path.append(\"..\")"
   ]
  },
  {
   "cell_type": "code",
   "execution_count": 33,
   "metadata": {},
   "outputs": [
    {
     "name": "stderr",
     "output_type": "stream",
     "text": [
      "Downloading file 'birdnet_default_v2.4/model.tflite' from 'https://huggingface.co/MaHaWo/iSparrow_test_models/resolve/main/birdnet_default_v2.4/model.tflite' to '/home/hmack/.cache/iSparrow'.\n"
     ]
    },
    {
     "name": "stdout",
     "output_type": "stream",
     "text": [
      "Creating iSparrow folders and downloading data... \n",
      "...reading config from /home/hmack/Development/iSparrow/config/install_cfg.yml\n",
      "...Making direcotries...\n",
      "/home/hmack/iSparrow /home/hmack/iSparrow/models /home/hmack/iSparrow_data /home/hmack/iSparrow_output /home/hmack/iSparrow/example\n",
      "... Downloading model files...\n"
     ]
    },
    {
     "name": "stderr",
     "output_type": "stream",
     "text": [
      "Downloading file 'birdnet_default_v2.4/labels.txt' from 'https://huggingface.co/MaHaWo/iSparrow_test_models/resolve/main/birdnet_default_v2.4/labels.txt' to '/home/hmack/.cache/iSparrow'.\n",
      "Downloading file 'birdnet_default_v2.4/species_presence_model.tflite' from 'https://huggingface.co/MaHaWo/iSparrow_test_models/resolve/main/birdnet_default_v2.4/species_presence_model.tflite' to '/home/hmack/.cache/iSparrow'.\n",
      "Downloading file 'birdnet_custom_v2.4/model.tflite' from 'https://huggingface.co/MaHaWo/iSparrow_test_models/resolve/main/birdnet_custom_v2.4/model.tflite' to '/home/hmack/.cache/iSparrow'.\n",
      "Downloading file 'birdnet_custom_v2.4/labels.txt' from 'https://huggingface.co/MaHaWo/iSparrow_test_models/resolve/main/birdnet_custom_v2.4/labels.txt' to '/home/hmack/.cache/iSparrow'.\n",
      "Downloading file 'google_bird_classification/saved_model.pb' from 'https://huggingface.co/MaHaWo/iSparrow_test_models/resolve/main/google_bird_classification/saved_model.pb' to '/home/hmack/.cache/iSparrow'.\n",
      "Downloading file 'google_bird_classification/labels.txt' from 'https://huggingface.co/MaHaWo/iSparrow_test_models/resolve/main/google_bird_classification/labels.txt' to '/home/hmack/.cache/iSparrow'.\n",
      "Downloading file 'google_bird_classification/train_metadata.csv' from 'https://huggingface.co/MaHaWo/iSparrow_test_models/resolve/main/google_bird_classification/train_metadata.csv' to '/home/hmack/.cache/iSparrow'.\n",
      "Downloading file 'google_bird_classification/variables/variables.index' from 'https://huggingface.co/MaHaWo/iSparrow_test_models/resolve/main/google_bird_classification/variables/variables.index' to '/home/hmack/.cache/iSparrow'.\n",
      "Downloading file 'google_bird_classification/variables/variables.data-00000-of-00001' from 'https://huggingface.co/MaHaWo/iSparrow_test_models/resolve/main/google_bird_classification/variables/variables.data-00000-of-00001' to '/home/hmack/.cache/iSparrow'.\n",
      "Downloading file 'google_bird_classification/assets/family.csv' from 'https://huggingface.co/MaHaWo/iSparrow_test_models/resolve/main/google_bird_classification/assets/family.csv' to '/home/hmack/.cache/iSparrow'.\n",
      "Downloading file 'google_bird_classification/assets/genus.csv' from 'https://huggingface.co/MaHaWo/iSparrow_test_models/resolve/main/google_bird_classification/assets/genus.csv' to '/home/hmack/.cache/iSparrow'.\n",
      "Downloading file 'google_bird_classification/assets/label.csv' from 'https://huggingface.co/MaHaWo/iSparrow_test_models/resolve/main/google_bird_classification/assets/label.csv' to '/home/hmack/.cache/iSparrow'.\n",
      "Downloading file 'google_bird_classification/assets/order.csv' from 'https://huggingface.co/MaHaWo/iSparrow_test_models/resolve/main/google_bird_classification/assets/order.csv' to '/home/hmack/.cache/iSparrow'.\n",
      "Downloading file 'corrupted.wav' from 'https://huggingface.co/datasets/MaHaWo/iSparrow_test_data/resolve/main/corrupted.wav' to '/home/hmack/.cache/iSparrow'.\n"
     ]
    },
    {
     "name": "stdout",
     "output_type": "stream",
     "text": [
      "... Downloading example files...\n"
     ]
    },
    {
     "name": "stderr",
     "output_type": "stream",
     "text": [
      "Downloading file 'soundscape.wav' from 'https://huggingface.co/datasets/MaHaWo/iSparrow_test_data/resolve/main/soundscape.wav' to '/home/hmack/.cache/iSparrow'.\n",
      "Downloading file 'trimmed.wav' from 'https://huggingface.co/datasets/MaHaWo/iSparrow_test_data/resolve/main/trimmed.wav' to '/home/hmack/.cache/iSparrow'.\n",
      "Downloading file 'species_list.txt' from 'https://huggingface.co/datasets/MaHaWo/iSparrow_test_data/resolve/main/species_list.txt' to '/home/hmack/.cache/iSparrow'.\n"
     ]
    },
    {
     "name": "stdout",
     "output_type": "stream",
     "text": [
      "Installation finished\n"
     ]
    }
   ],
   "source": [
    "# make a mock install of sparrow. will be invisible in the future\n",
    "sp.install()"
   ]
  },
  {
   "cell_type": "code",
   "execution_count": 72,
   "metadata": {},
   "outputs": [],
   "source": [
    "class AnalysisEventHandler(FileSystemEventHandler):\n",
    "    def __init__(self, callback: callable):\n",
    "        self.callback = callback\n",
    "\n",
    "    def on_created(self, event):\n",
    "        print(event.event_type, event.src_path)\n",
    "        if Path(event.src_path).is_file() and Path(event.src_path).suffix == \".wav\":\n",
    "            self.callback(event.src_path)"
   ]
  },
  {
   "cell_type": "code",
   "execution_count": 74,
   "metadata": {},
   "outputs": [],
   "source": [
    "# FIXME: add species predictor\n",
    "class Runner:\n",
    "\n",
    "    def _load_model(self):\n",
    "        self.preprocessor_module = utils.load_module(\n",
    "            \"ppm\", self.model_dir / Path(self.model_name) / \"preprocessor.py\"\n",
    "        )\n",
    "\n",
    "        self.model_module = utils.load_module(\n",
    "            \"md\", self.model_dir / Path(self.model_name) / \"model.py\"\n",
    "        )\n",
    "\n",
    "    def __init__(\n",
    "        self,\n",
    "        indir: str,\n",
    "        outdir: str,\n",
    "        model_dir: str,\n",
    "        model_name: str,\n",
    "        preprocessor_config: dict = {},\n",
    "        model_config: dict = {},\n",
    "        recording_config: dict = {},\n",
    "    ):\n",
    "        self.input = Path(indir)\n",
    "        self.output = Path(outdir)\n",
    "        self.model_dir = Path(model_dir)\n",
    "        self.model_name = model_name\n",
    "        self.proprocessor_module = None\n",
    "        self.model_module = None\n",
    "        self.model = None\n",
    "        self.preprocessor = None\n",
    "\n",
    "        self._load_model()\n",
    "\n",
    "        self.preprocessor = self.preprocessor_module.Preprocessor(**preprocessor_config)\n",
    "\n",
    "        self.model = self.model_module.Model(\n",
    "            self.model_dir / model_name, **model_config\n",
    "        )\n",
    "\n",
    "        self.recording = SparrowRecording(\n",
    "            self.preprocessor, self.model, \"\", **recording_config\n",
    "        )\n",
    "\n",
    "        self.results = []\n",
    "\n",
    "        self.start_time = None\n",
    "        self.end_time = None\n",
    "\n",
    "    def change_model(\n",
    "        self,\n",
    "        model_name,\n",
    "        preprocessor_config: dict = {},\n",
    "        model_config: dict = {},\n",
    "    ):\n",
    "\n",
    "        raise RuntimeError(\"Not yet supported, only untested skeleton code exists\")\n",
    "\n",
    "        self.model_name = model_name\n",
    "\n",
    "        self._load_model()\n",
    "\n",
    "        self.preprocessor = self.preprocessor_module.Preprocessor(**preprocessor_config)\n",
    "\n",
    "        self.model = self.model_module.Model(\n",
    "            self.model_dir / model_name, **model_config\n",
    "        )\n",
    "\n",
    "        self.recording.set_analyzer(model, preprocessor)\n",
    "\n",
    "    def analyze(self, filename: str):\n",
    "        self.recording.path = filename\n",
    "\n",
    "        self.recording.analyze()\n",
    "\n",
    "        self.results.append(self.recording.detections)\n",
    "\n",
    "        print(\"results: \", self.results)\n",
    "\n",
    "        if len(self.results) >= 500:\n",
    "            self.end_time = datetime.now().strftime(\"%y%m%d_%H%M%S\")\n",
    "            self._save_results()\n",
    "            self.start_time = datetime.now().strftime(\"%y%m%d_%H%M%S\")\n",
    "\n",
    "    def save_results(self):\n",
    "        print(\"save results\")\n",
    "        pd.DataFrame(self.results).to_csv(\n",
    "            self.outdir / Path(f\"{self.start_time}_{self.end_time}.csv\")\n",
    "        )\n",
    "\n",
    "    def run(self):\n",
    "        observer = Observer()\n",
    "        event_handler = AnalysisEventHandler(self.analyze)\n",
    "        observer.schedule(event_handler, self.input, recursive=True)\n",
    "        self.start_time = datetime.now().strftime(\"%y%m%d_%H%M%S\")\n",
    "        observer.start()\n",
    "\n",
    "        try:\n",
    "            while True:\n",
    "                time.sleep(1)\n",
    "        except KeyboardInterrupt:\n",
    "            observer.stop()\n",
    "        except Exception:\n",
    "            print(\"Something went wrong\")\n",
    "            observer.stop()\n",
    "        observer.join()"
   ]
  },
  {
   "cell_type": "code",
   "execution_count": 76,
   "metadata": {},
   "outputs": [],
   "source": [
    "preprocessor_cfg = {\n",
    "    \"sample_rate\": 48000,\n",
    "    \"overlap\": 0.0,\n",
    "    \"sample_secs\": 3.0,\n",
    "    \"resample_type\": \"kaiser_fast\",\n",
    "}\n",
    "\n",
    "model_cfg = {\n",
    "    \"num_threads\": 1,\n",
    "    \"sigmoid_sensitivity\": 1.0,\n",
    "    \"species_list_file\": None,\n",
    "}\n",
    "\n",
    "recording_cfg = {\n",
    "    \"date\": None,\n",
    "    \"lat\": None,\n",
    "    \"lon\": None,\n",
    "    \"species_presence_threshold\": 0.03,\n",
    "    \"min_conf\": 0.25,\n",
    "    \"species_predictor\": None,\n",
    "}"
   ]
  },
  {
   "cell_type": "code",
   "execution_count": 77,
   "metadata": {},
   "outputs": [
    {
     "name": "stdout",
     "output_type": "stream",
     "text": [
      "Labels loaded.\n"
     ]
    }
   ],
   "source": [
    "runner = Runner(\n",
    "    \"/home/hmack/iSparrow_data\",\n",
    "    \"/home/hmack/iSparrow_output\",\n",
    "    \"/home/hmack/iSparrow/models\",\n",
    "    \"birdnet_default\",\n",
    "    preprocessor_cfg,\n",
    "    model_cfg,\n",
    "    recording_cfg,\n",
    ")"
   ]
  },
  {
   "cell_type": "code",
   "execution_count": 78,
   "metadata": {},
   "outputs": [
    {
     "name": "stdout",
     "output_type": "stream",
     "text": [
      "created /home/hmack/iSparrow_data/240409_094843/240409_094844.wav\n",
      "read audio data of duration 12.970208333333334 from /home/hmack/iSparrow_data/240409_094843/240409_094844.wav with sampling rate 48000\n",
      "process audio data custom\n",
      "process audio data custom: complete, read  4 chunks.\n",
      "name of model:  birdnet_default\n",
      "results:  [[]]\n",
      "created /home/hmack/iSparrow_data/240409_094843/240409_094908.wav\n",
      "read audio data of duration 11.263541666666667 from /home/hmack/iSparrow_data/240409_094843/240409_094908.wav with sampling rate 48000\n",
      "process audio data custom\n",
      "process audio data custom: complete, read  4 chunks.\n",
      "name of model:  birdnet_default\n",
      "results:  [[], []]\n"
     ]
    }
   ],
   "source": [
    "runner.run()"
   ]
  },
  {
   "cell_type": "code",
   "execution_count": null,
   "metadata": {},
   "outputs": [
    {
     "data": {
      "text/plain": [
       "[[], []]"
      ]
     },
     "execution_count": 68,
     "metadata": {},
     "output_type": "execute_result"
    }
   ],
   "source": [
    "runner.results"
   ]
  },
  {
   "cell_type": "code",
   "execution_count": null,
   "metadata": {},
   "outputs": [],
   "source": []
  }
 ],
 "metadata": {
  "kernelspec": {
   "display_name": ".isparrowrecord",
   "language": "python",
   "name": "python3"
  },
  "language_info": {
   "codemirror_mode": {
    "name": "ipython",
    "version": 3
   },
   "file_extension": ".py",
   "mimetype": "text/x-python",
   "name": "python",
   "nbconvert_exporter": "python",
   "pygments_lexer": "ipython3",
   "version": "3.10.12"
  }
 },
 "nbformat": 4,
 "nbformat_minor": 2
}
