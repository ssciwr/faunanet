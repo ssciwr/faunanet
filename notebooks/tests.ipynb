{
 "cells": [
  {
   "cell_type": "code",
   "execution_count": 1,
   "metadata": {},
   "outputs": [],
   "source": [
    "from pathlib import Path"
   ]
  },
  {
   "cell_type": "code",
   "execution_count": 2,
   "metadata": {},
   "outputs": [],
   "source": [
    "import sys\n",
    "\n",
    "sys.path.append(str(Path.home() / Path(\"Development\") / \"iSparrow\"))"
   ]
  },
  {
   "cell_type": "code",
   "execution_count": 3,
   "metadata": {},
   "outputs": [
    {
     "name": "stderr",
     "output_type": "stream",
     "text": [
      "2024-04-10 14:43:32.052305: I tensorflow/core/platform/cpu_feature_guard.cc:210] This TensorFlow binary is optimized to use available CPU instructions in performance-critical operations.\n",
      "To enable the following instructions: AVX2 FMA, in other operations, rebuild TensorFlow with the appropriate compiler flags.\n",
      "2024-04-10 14:43:32.549862: W tensorflow/compiler/tf2tensorrt/utils/py_utils.cc:38] TF-TRT Warning: Could not find TensorRT\n"
     ]
    }
   ],
   "source": [
    "from iSparrow import PreprocessorBase\n",
    "from iSparrow import ModelBase\n",
    "from iSparrow import SparrowRecording\n",
    "from iSparrow import SpeciesPredictorBase\n",
    "from iSparrow import SparrowWatcher\n",
    "import iSparrow.utils as utils"
   ]
  },
  {
   "cell_type": "code",
   "execution_count": 4,
   "metadata": {},
   "outputs": [],
   "source": [
    "import os\n",
    "import pandas as pd\n",
    "import tests.set_up_sparrow_env as sp\n",
    "from watchdog.events import LoggingEventHandler, FileSystemEventHandler\n",
    "from watchdog.observers import Observer\n",
    "import time\n",
    "from datetime import datetime\n",
    "from copy import deepcopy\n",
    "import yaml\n",
    "import threading"
   ]
  },
  {
   "cell_type": "code",
   "execution_count": 5,
   "metadata": {},
   "outputs": [
    {
     "name": "stdout",
     "output_type": "stream",
     "text": [
      "Creating iSparrow folders and downloading data... \n",
      "...reading config from /home/hmack/Development/iSparrow/config/install_cfg.yml\n",
      "...Making direcotries...\n",
      "/home/hmack/iSparrow /home/hmack/iSparrow/models /home/hmack/iSparrow_data /home/hmack/iSparrow_output /home/hmack/iSparrow/example\n",
      "... Downloading model files...\n",
      "... Downloading example files...\n",
      "Installation finished\n"
     ]
    }
   ],
   "source": [
    "# make a mock install of sparrow. will be invisible in the future\n",
    "sp.install()"
   ]
  },
  {
   "cell_type": "code",
   "execution_count": 6,
   "metadata": {},
   "outputs": [
    {
     "name": "stdout",
     "output_type": "stream",
     "text": [
      "Labels loaded.\n"
     ]
    },
    {
     "name": "stderr",
     "output_type": "stream",
     "text": [
      "INFO: Created TensorFlow Lite XNNPACK delegate for CPU.\n"
     ]
    }
   ],
   "source": [
    "preprocessor_cfg = {\n",
    "    \"sample_rate\": 48000,\n",
    "    \"overlap\": 0.0,\n",
    "    \"sample_secs\": 3.0,\n",
    "    \"resample_type\": \"kaiser_fast\",\n",
    "}\n",
    "\n",
    "model_cfg = {\n",
    "    \"num_threads\": 1,\n",
    "    \"sigmoid_sensitivity\": 1.0,\n",
    "    \"species_list_file\": None,\n",
    "}\n",
    "\n",
    "recording_cfg = {\n",
    "    \"date\": datetime(year=2022, month=5, day=10),\n",
    "    \"lat\": 35.4244,\n",
    "    \"lon\": -120.7463,\n",
    "    \"species_presence_threshold\": 0.03,\n",
    "    \"min_conf\": 0.25,\n",
    "    \"species_predictor\": None,\n",
    "}\n",
    "\n",
    "species_predictor_cfg = {\n",
    "    \"use_cache\": True,\n",
    "    \"num_threads\": 1,\n",
    "}\n",
    "\n",
    "runner = SparrowWatcher(\n",
    "    Path.home() / \"iSparrow_data\",\n",
    "    Path.home() / \"iSparrow_output\",\n",
    "    Path.home() / \"iSparrow/models\",\n",
    "    \"birdnet_default\",\n",
    "    preprocessor_config=preprocessor_cfg,\n",
    "    model_config=model_cfg,\n",
    "    recording_config=recording_cfg,\n",
    "    species_predictor_config=species_predictor_cfg,\n",
    ")"
   ]
  },
  {
   "cell_type": "code",
   "execution_count": null,
   "metadata": {},
   "outputs": [
    {
     "name": "stdout",
     "output_type": "stream",
     "text": [
      "start the watcher process\n"
     ]
    },
    {
     "name": "stdout",
     "output_type": "stream",
     "text": [
      "read audio data of duration 120.0 from /home/hmack/iSparrow_data/example_2.wav with sampling rate 48000\n",
      "process audio data default\n",
      "process audio data default: complete, read  40 chunks.\n",
      "name of model:  birdnet_default\n"
     ]
    },
    {
     "name": "stderr",
     "output_type": "stream",
     "text": [
      "WARNING: Attempting to use a delegate that only supports static-sized tensors with a graph that has dynamic-sized tensors (tensor#187 is a dynamic-sized tensor).\n"
     ]
    },
    {
     "name": "stdout",
     "output_type": "stream",
     "text": [
      "read audio data of duration 120.0 from /home/hmack/iSparrow_data/example_3.wav with sampling rate 48000\n",
      "process audio data default\n",
      "process audio data default: complete, read  40 chunks.\n",
      "name of model:  birdnet_default\n",
      "read audio data of duration 120.0 from /home/hmack/iSparrow_data/example_4.wav with sampling rate 48000\n",
      "process audio data default\n",
      "process audio data default: complete, read  40 chunks.\n",
      "name of model:  birdnet_default\n",
      "read audio data of duration 120.0 from /home/hmack/iSparrow_data/example_5.wav with sampling rate 48000\n",
      "process audio data default\n",
      "process audio data default: complete, read  40 chunks.\n",
      "name of model:  birdnet_default\n",
      "read audio data of duration 120.0 from /home/hmack/iSparrow_data/example_6.wav with sampling rate 48000\n",
      "process audio data default\n",
      "process audio data default: complete, read  40 chunks.\n",
      "name of model:  birdnet_default\n",
      "read audio data of duration 120.0 from /home/hmack/iSparrow_data/example_7.wav with sampling rate 48000\n",
      "process audio data default\n",
      "process audio data default: complete, read  40 chunks.\n",
      "name of model:  birdnet_default\n",
      "read audio data of duration 120.0 from /home/hmack/iSparrow_data/example_8.wav with sampling rate 48000\n",
      "process audio data default\n",
      "process audio data default: complete, read  40 chunks.\n",
      "name of model:  birdnet_default\n",
      "read audio data of duration 120.0 from /home/hmack/iSparrow_data/example_9.wav with sampling rate 48000\n",
      "process audio data default\n",
      "process audio data default: complete, read  40 chunks.\n",
      "name of model:  birdnet_default\n",
      "read audio data of duration 120.0 from /home/hmack/iSparrow_data/example_10.wav with sampling rate 48000\n",
      "process audio data default\n",
      "process audio data default: complete, read  40 chunks.\n",
      "name of model:  birdnet_default\n",
      "read audio data of duration 120.0 from /home/hmack/iSparrow_data/example_11.wav with sampling rate 48000\n",
      "process audio data default\n",
      "process audio data default: complete, read  40 chunks.\n",
      "name of model:  birdnet_default\n",
      "read audio data of duration 120.0 from /home/hmack/iSparrow_data/example_12.wav with sampling rate 48000\n",
      "process audio data default\n",
      "process audio data default: complete, read  40 chunks.\n",
      "name of model:  birdnet_default\n",
      "read audio data of duration 120.0 from /home/hmack/iSparrow_data/example_13.wav with sampling rate 48000\n",
      "process audio data default\n",
      "process audio data default: complete, read  40 chunks.\n",
      "name of model:  birdnet_default\n",
      "read audio data of duration 120.0 from /home/hmack/iSparrow_data/example_14.wav with sampling rate 48000\n",
      "process audio data default\n",
      "process audio data default: complete, read  40 chunks.\n",
      "name of model:  birdnet_default\n",
      "read audio data of duration 120.0 from /home/hmack/iSparrow_data/example_15.wav with sampling rate 48000\n",
      "process audio data default\n",
      "process audio data default: complete, read  40 chunks.\n",
      "name of model:  birdnet_default\n",
      "read audio data of duration 120.0 from /home/hmack/iSparrow_data/example_16.wav with sampling rate 48000\n",
      "process audio data default\n",
      "process audio data default: complete, read  40 chunks.\n",
      "name of model:  birdnet_default\n",
      "read audio data of duration 120.0 from /home/hmack/iSparrow_data/example_17.wav with sampling rate 48000\n",
      "process audio data default\n",
      "process audio data default: complete, read  40 chunks.\n",
      "name of model:  birdnet_default\n",
      "read audio data of duration 120.0 from /home/hmack/iSparrow_data/example_18.wav with sampling rate 48000\n",
      "process audio data default\n",
      "process audio data default: complete, read  40 chunks.\n",
      "name of model:  birdnet_default\n",
      "read audio data of duration 120.0 from /home/hmack/iSparrow_data/example_19.wav with sampling rate 48000\n",
      "process audio data default\n",
      "process audio data default: complete, read  40 chunks.\n",
      "name of model:  birdnet_default\n",
      "read audio data of duration 120.0 from /home/hmack/iSparrow_data/example_20.wav with sampling rate 48000\n",
      "process audio data default\n",
      "process audio data default: complete, read  40 chunks.\n",
      "name of model:  birdnet_default\n"
     ]
    }
   ],
   "source": [
    "runner.start()"
   ]
  },
  {
   "cell_type": "code",
   "execution_count": 8,
   "metadata": {},
   "outputs": [
    {
     "name": "stdout",
     "output_type": "stream",
     "text": [
      "pause the watcher process\n"
     ]
    }
   ],
   "source": [
    "runner.pause()"
   ]
  },
  {
   "cell_type": "code",
   "execution_count": 9,
   "metadata": {},
   "outputs": [
    {
     "name": "stdout",
     "output_type": "stream",
     "text": [
      "continute the watcher process\n"
     ]
    }
   ],
   "source": [
    "runner.go_on()"
   ]
  },
  {
   "cell_type": "code",
   "execution_count": null,
   "metadata": {},
   "outputs": [
    {
     "name": "stdout",
     "output_type": "stream",
     "text": [
      "Default classifier loaded\n",
      "Custom classifier loaded\n",
      "Labels loaded.\n",
      "stop the watcher process\n",
      "start the watcher process\n"
     ]
    },
    {
     "name": "stderr",
     "output_type": "stream",
     "text": [
      "WARNING: Attempting to use a delegate that only supports static-sized tensors with a graph that has dynamic-sized tensors (tensor#187 is a dynamic-sized tensor).\n"
     ]
    },
    {
     "name": "stdout",
     "output_type": "stream",
     "text": [
      "read audio data of duration 120.0 from /home/hmack/iSparrow_data/example_21.wav with sampling rate 48000\n",
      "process audio data custom\n",
      "process audio data custom: complete, read  40 chunks.\n",
      "name of model:  birdnet_custom\n",
      "read audio data of duration 120.0 from /home/hmack/iSparrow_data/example_22.wav with sampling rate 48000\n",
      "process audio data custom\n",
      "process audio data custom: complete, read  40 chunks.\n",
      "name of model:  birdnet_custom\n",
      "read audio data of duration 120.0 from /home/hmack/iSparrow_data/example_23.wav with sampling rate 48000\n",
      "process audio data custom\n",
      "process audio data custom: complete, read  40 chunks.\n",
      "name of model:  birdnet_custom\n",
      "read audio data of duration 120.0 from /home/hmack/iSparrow_data/example_24.wav with sampling rate 48000\n",
      "process audio data custom\n",
      "process audio data custom: complete, read  40 chunks.\n",
      "name of model:  birdnet_custom\n",
      "read audio data of duration 120.0 from /home/hmack/iSparrow_data/example_25.wav with sampling rate 48000\n",
      "process audio data custom\n",
      "process audio data custom: complete, read  40 chunks.\n",
      "name of model:  birdnet_custom\n"
     ]
    }
   ],
   "source": [
    "preprocessor_cfg = {\n",
    "    \"sample_rate\": 48000,\n",
    "    \"overlap\": 0.0,\n",
    "    \"sample_secs\": 3.0,\n",
    "    \"resample_type\": \"kaiser_fast\",\n",
    "}\n",
    "\n",
    "model_cfg = {\n",
    "    \"num_threads\": 1,\n",
    "    \"sigmoid_sensitivity\": 1.0,\n",
    "    \"default_model_path\": str(Path.home() / \"iSparrow/models/birdnet_default\"),\n",
    "}\n",
    "\n",
    "recording_cfg = {\n",
    "    \"species_presence_threshold\": 0.03,\n",
    "    \"min_conf\": 0.5,\n",
    "    \"species_predictor\": None,\n",
    "}\n",
    "\n",
    "runner.change_analyzer(\n",
    "    \"birdnet_custom\", preprocessor_config=preprocessor_cfg, model_config=model_cfg\n",
    ")"
   ]
  },
  {
   "cell_type": "code",
   "execution_count": 11,
   "metadata": {},
   "outputs": [
    {
     "name": "stdout",
     "output_type": "stream",
     "text": [
      "stop the watcher process\n"
     ]
    }
   ],
   "source": [
    "runner.stop()"
   ]
  },
  {
   "cell_type": "code",
   "execution_count": 12,
   "metadata": {},
   "outputs": [
    {
     "name": "stdout",
     "output_type": "stream",
     "text": [
      "read audio data of duration 120.0 from /home/hmack/iSparrow_data/example_18.wav with sampling rate 48000\n",
      "process audio data custom\n",
      "process audio data custom: complete, read  40 chunks.\n",
      "name of model:  birdnet_custom\n",
      "read audio data of duration 120.0 from /home/hmack/iSparrow_data/example_4.wav with sampling rate 48000\n",
      "process audio data custom\n",
      "process audio data custom: complete, read  40 chunks.\n",
      "name of model:  birdnet_custom\n",
      "read audio data of duration 120.0 from /home/hmack/iSparrow_data/example_15.wav with sampling rate 48000\n",
      "process audio data custom\n",
      "process audio data custom: complete, read  40 chunks.\n",
      "name of model:  birdnet_custom\n",
      "read audio data of duration 120.0 from /home/hmack/iSparrow_data/example_14.wav with sampling rate 48000\n",
      "process audio data custom\n",
      "process audio data custom: complete, read  40 chunks.\n",
      "name of model:  birdnet_custom\n",
      "read audio data of duration 120.0 from /home/hmack/iSparrow_data/example_11.wav with sampling rate 48000\n",
      "process audio data custom\n",
      "process audio data custom: complete, read  40 chunks.\n",
      "name of model:  birdnet_custom\n",
      "read audio data of duration 120.0 from /home/hmack/iSparrow_data/example_19.wav with sampling rate 48000\n",
      "process audio data custom\n",
      "process audio data custom: complete, read  40 chunks.\n",
      "name of model:  birdnet_custom\n",
      "read audio data of duration 120.0 from /home/hmack/iSparrow_data/example_2.wav with sampling rate 48000\n",
      "process audio data custom\n",
      "process audio data custom: complete, read  40 chunks.\n",
      "name of model:  birdnet_custom\n",
      "read audio data of duration 120.0 from /home/hmack/iSparrow_data/example_5.wav with sampling rate 48000\n",
      "process audio data custom\n",
      "process audio data custom: complete, read  40 chunks.\n",
      "name of model:  birdnet_custom\n",
      "read audio data of duration 120.0 from /home/hmack/iSparrow_data/example_12.wav with sampling rate 48000\n",
      "process audio data custom\n",
      "process audio data custom: complete, read  40 chunks.\n",
      "name of model:  birdnet_custom\n",
      "read audio data of duration 120.0 from /home/hmack/iSparrow_data/example_6.wav with sampling rate 48000\n",
      "process audio data custom\n",
      "process audio data custom: complete, read  40 chunks.\n",
      "name of model:  birdnet_custom\n",
      "read audio data of duration 120.0 from /home/hmack/iSparrow_data/example_10.wav with sampling rate 48000\n",
      "process audio data custom\n",
      "process audio data custom: complete, read  40 chunks.\n",
      "name of model:  birdnet_custom\n",
      "read audio data of duration 120.0 from /home/hmack/iSparrow_data/example_0.wav with sampling rate 48000\n",
      "process audio data custom\n",
      "process audio data custom: complete, read  40 chunks.\n",
      "name of model:  birdnet_custom\n",
      "read audio data of duration 120.0 from /home/hmack/iSparrow_data/example_17.wav with sampling rate 48000\n",
      "process audio data custom\n",
      "process audio data custom: complete, read  40 chunks.\n",
      "name of model:  birdnet_custom\n",
      "read audio data of duration 120.0 from /home/hmack/iSparrow_data/example_3.wav with sampling rate 48000\n",
      "process audio data custom\n",
      "process audio data custom: complete, read  40 chunks.\n",
      "name of model:  birdnet_custom\n",
      "read audio data of duration 120.0 from /home/hmack/iSparrow_data/example_9.wav with sampling rate 48000\n",
      "process audio data custom\n",
      "process audio data custom: complete, read  40 chunks.\n",
      "name of model:  birdnet_custom\n",
      "read audio data of duration 120.0 from /home/hmack/iSparrow_data/example_8.wav with sampling rate 48000\n",
      "process audio data custom\n",
      "process audio data custom: complete, read  40 chunks.\n",
      "name of model:  birdnet_custom\n",
      "read audio data of duration 120.0 from /home/hmack/iSparrow_data/example_7.wav with sampling rate 48000\n",
      "process audio data custom\n",
      "process audio data custom: complete, read  40 chunks.\n",
      "name of model:  birdnet_custom\n",
      "read audio data of duration 120.0 from /home/hmack/iSparrow_data/example_13.wav with sampling rate 48000\n",
      "process audio data custom\n",
      "process audio data custom: complete, read  40 chunks.\n",
      "name of model:  birdnet_custom\n",
      "read audio data of duration 120.0 from /home/hmack/iSparrow_data/example_26.wav with sampling rate 48000\n",
      "process audio data custom\n",
      "process audio data custom: complete, read  40 chunks.\n",
      "name of model:  birdnet_custom\n",
      "read audio data of duration 120.0 from /home/hmack/iSparrow_data/example_16.wav with sampling rate 48000\n",
      "process audio data custom\n",
      "process audio data custom: complete, read  40 chunks.\n",
      "name of model:  birdnet_custom\n",
      "read audio data of duration 120.0 from /home/hmack/iSparrow_data/example_20.wav with sampling rate 48000\n",
      "process audio data custom\n",
      "process audio data custom: complete, read  40 chunks.\n",
      "name of model:  birdnet_custom\n",
      "read audio data of duration 120.0 from /home/hmack/iSparrow_data/example_1.wav with sampling rate 48000\n",
      "process audio data custom\n",
      "process audio data custom: complete, read  40 chunks.\n",
      "name of model:  birdnet_custom\n"
     ]
    }
   ],
   "source": [
    "runner.clean_up()"
   ]
  },
  {
   "cell_type": "code",
   "execution_count": 13,
   "metadata": {},
   "outputs": [
    {
     "name": "stdout",
     "output_type": "stream",
     "text": [
      "read audio data of duration 120.0 from /home/hmack/iSparrow_data/example_37.wav with sampling rate 48000\n",
      "process audio data custom\n",
      "process audio data custom: complete, read  40 chunks.\n",
      "name of model:  birdnet_custom\n",
      "read audio data of duration 120.0 from /home/hmack/iSparrow_data/example_31.wav with sampling rate 48000\n",
      "process audio data custom\n",
      "process audio data custom: complete, read  40 chunks.\n",
      "name of model:  birdnet_custom\n",
      "read audio data of duration 120.0 from /home/hmack/iSparrow_data/example_36.wav with sampling rate 48000\n",
      "process audio data custom\n",
      "process audio data custom: complete, read  40 chunks.\n",
      "name of model:  birdnet_custom\n",
      "read audio data of duration 120.0 from /home/hmack/iSparrow_data/example_27.wav with sampling rate 48000\n",
      "process audio data custom\n",
      "process audio data custom: complete, read  40 chunks.\n",
      "name of model:  birdnet_custom\n",
      "read audio data of duration 120.0 from /home/hmack/iSparrow_data/example_35.wav with sampling rate 48000\n",
      "process audio data custom\n",
      "process audio data custom: complete, read  40 chunks.\n",
      "name of model:  birdnet_custom\n",
      "read audio data of duration 120.0 from /home/hmack/iSparrow_data/example_39.wav with sampling rate 48000\n",
      "process audio data custom\n",
      "process audio data custom: complete, read  40 chunks.\n",
      "name of model:  birdnet_custom\n",
      "read audio data of duration 120.0 from /home/hmack/iSparrow_data/example_28.wav with sampling rate 48000\n",
      "process audio data custom\n",
      "process audio data custom: complete, read  40 chunks.\n",
      "name of model:  birdnet_custom\n",
      "read audio data of duration 120.0 from /home/hmack/iSparrow_data/example_29.wav with sampling rate 48000\n",
      "process audio data custom\n",
      "process audio data custom: complete, read  40 chunks.\n",
      "name of model:  birdnet_custom\n",
      "read audio data of duration 120.0 from /home/hmack/iSparrow_data/example_30.wav with sampling rate 48000\n",
      "process audio data custom\n",
      "process audio data custom: complete, read  40 chunks.\n",
      "name of model:  birdnet_custom\n",
      "read audio data of duration 120.0 from /home/hmack/iSparrow_data/example_34.wav with sampling rate 48000\n",
      "process audio data custom\n",
      "process audio data custom: complete, read  40 chunks.\n",
      "name of model:  birdnet_custom\n",
      "read audio data of duration 120.0 from /home/hmack/iSparrow_data/example_40.wav with sampling rate 48000\n",
      "process audio data custom\n",
      "process audio data custom: complete, read  40 chunks.\n",
      "name of model:  birdnet_custom\n",
      "read audio data of duration 120.0 from /home/hmack/iSparrow_data/example_32.wav with sampling rate 48000\n",
      "process audio data custom\n",
      "process audio data custom: complete, read  40 chunks.\n",
      "name of model:  birdnet_custom\n",
      "read audio data of duration 120.0 from /home/hmack/iSparrow_data/example_38.wav with sampling rate 48000\n",
      "process audio data custom\n",
      "process audio data custom: complete, read  40 chunks.\n",
      "name of model:  birdnet_custom\n",
      "read audio data of duration 120.0 from /home/hmack/iSparrow_data/example_33.wav with sampling rate 48000\n",
      "process audio data custom\n",
      "process audio data custom: complete, read  40 chunks.\n",
      "name of model:  birdnet_custom\n"
     ]
    }
   ],
   "source": [
    "runner.clean_up(delete=True)"
   ]
  },
  {
   "cell_type": "code",
   "execution_count": null,
   "metadata": {},
   "outputs": [],
   "source": []
  }
 ],
 "metadata": {
  "kernelspec": {
   "display_name": ".isparrowrecord",
   "language": "python",
   "name": "python3"
  },
  "language_info": {
   "codemirror_mode": {
    "name": "ipython",
    "version": 3
   },
   "file_extension": ".py",
   "mimetype": "text/x-python",
   "name": "python",
   "nbconvert_exporter": "python",
   "pygments_lexer": "ipython3",
   "version": "3.10.12"
  }
 },
 "nbformat": 4,
 "nbformat_minor": 2
}
