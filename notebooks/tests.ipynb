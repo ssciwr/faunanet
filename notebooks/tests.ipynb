{
 "cells": [
  {
   "cell_type": "code",
   "execution_count": 1,
   "metadata": {},
   "outputs": [],
   "source": [
    "import sys\n",
    "import time\n",
    "import logging\n",
    "from watchdog.observers import Observer\n",
    "from watchdog.events import LoggingEventHandler"
   ]
  },
  {
   "cell_type": "code",
   "execution_count": 2,
   "metadata": {},
   "outputs": [],
   "source": [
    "logging.basicConfig(level=logging.INFO,\n",
    "                        format='%(asctime)s - %(message)s',\n",
    "                        datefmt='%Y-%m-%d %H:%M:%S')\n"
   ]
  },
  {
   "cell_type": "code",
   "execution_count": 3,
   "metadata": {},
   "outputs": [
    {
     "name": "stderr",
     "output_type": "stream",
     "text": [
      "2024-04-08 16:30:11 - Modified file: ./tests.ipynb\n",
      "2024-04-08 16:30:11 - Modified directory: .\n",
      "2024-04-08 16:30:12 - Modified file: ./tests.ipynb\n",
      "2024-04-08 16:30:12 - Modified directory: .\n",
      "2024-04-08 16:30:14 - Modified file: ./tests.ipynb\n",
      "2024-04-08 16:30:14 - Modified file: ./tests.ipynb\n",
      "2024-04-08 16:30:14 - Modified directory: .\n",
      "2024-04-08 16:30:15 - Modified file: ./tests.ipynb\n",
      "2024-04-08 16:30:15 - Modified file: ./tests.ipynb\n",
      "2024-04-08 16:30:15 - Modified directory: .\n",
      "2024-04-08 16:30:16 - Modified file: ./tests.ipynb\n",
      "2024-04-08 16:30:16 - Modified file: ./tests.ipynb\n",
      "2024-04-08 16:30:16 - Modified directory: .\n",
      "2024-04-08 16:30:17 - Modified file: ./tests.ipynb\n",
      "2024-04-08 16:30:17 - Modified file: ./tests.ipynb\n",
      "2024-04-08 16:30:17 - Modified directory: .\n",
      "2024-04-08 16:30:18 - Modified file: ./tests.ipynb\n",
      "2024-04-08 16:30:18 - Modified file: ./tests.ipynb\n",
      "2024-04-08 16:30:18 - Modified directory: .\n"
     ]
    }
   ],
   "source": [
    "event_handler = LoggingEventHandler()\n",
    "observer = Observer()\n",
    "observer.schedule(event_handler, \"./\", recursive=True)\n",
    "observer.start()\n",
    "try:\n",
    "    while True:\n",
    "        time.sleep(1)\n",
    "except KeyboardInterrupt:\n",
    "    observer.stop()\n",
    "observer.join()"
   ]
  }
 ],
 "metadata": {
  "kernelspec": {
   "display_name": ".isparrowrecord",
   "language": "python",
   "name": "python3"
  },
  "language_info": {
   "codemirror_mode": {
    "name": "ipython",
    "version": 3
   },
   "file_extension": ".py",
   "mimetype": "text/x-python",
   "name": "python",
   "nbconvert_exporter": "python",
   "pygments_lexer": "ipython3",
   "version": "3.10.12"
  }
 },
 "nbformat": 4,
 "nbformat_minor": 2
}
