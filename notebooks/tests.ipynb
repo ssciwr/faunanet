{
 "cells": [
  {
   "cell_type": "code",
   "execution_count": 16,
   "metadata": {},
   "outputs": [],
   "source": [
    "import sys\n",
    "sys.path.append(\"/Users/haraldmack/Development/iSparrow\")\n",
    "from datetime import datetime\n",
    "import time\n",
    "import logging\n",
    "from watchdog.observers import Observer\n",
    "from watchdog.events import LoggingEventHandler, FileSystemEventHandler\n",
    "from pathlib import Path\n",
    "import tests.set_up_sparrow_env as sp\n",
    "import iSparrow.utils as utils\n",
    "from iSparrow import SparrowRecording\n",
    "from iSparrow import ModelBase\n",
    "from iSparrow import PreprocessorBase\n",
    "import pandas as pd\n"
   ]
  },
  {
   "cell_type": "code",
   "execution_count": 2,
   "metadata": {},
   "outputs": [
    {
     "name": "stdout",
     "output_type": "stream",
     "text": [
      "Creating iSparrow folders and downloading data... \n",
      "...reading config from /Users/haraldmack/Development/iSparrow/config/install_cfg.yml\n",
      "...Making direcotries...\n",
      "/Users/haraldmack/iSparrow /Users/haraldmack/iSparrow/models /Users/haraldmack/iSparrow_data /Users/haraldmack/iSparrow_output /Users/haraldmack/iSparrow/example\n",
      "... Downloading model files...\n",
      "... Downloading example files...\n",
      "Installation finished\n"
     ]
    }
   ],
   "source": [
    "# make a mock install of sparrow. will be invisible in the future\n",
    "sp.install()"
   ]
  },
  {
   "cell_type": "code",
   "execution_count": 3,
   "metadata": {},
   "outputs": [],
   "source": [
    "class AnalysisEventHandler(FileSystemEventHandler):\n",
    "    def __init__(self, callback: callable):\n",
    "        self.callback = callback\n",
    "\n",
    "    def on_created(self, event):\n",
    "        print(event.event_type, event.src_path)\n",
    "        if Path(event.src_path).is_file() and Path(event.src_path).suffix == \".wav\":\n",
    "            self.callback(event.src_path)"
   ]
  },
  {
   "cell_type": "code",
   "execution_count": 30,
   "metadata": {},
   "outputs": [],
   "source": [
    "# FIXME: add species predictor\n",
    "class Runner:\n",
    "\n",
    "    def _load_model(self):\n",
    "        self.preprocessor_module = utils.load_module(\n",
    "            \"ppm\", self.model_dir / Path(self.model_name) / \"preprocessor.py\"\n",
    "        )\n",
    "\n",
    "        self.model_module = utils.load_module(\n",
    "            \"md\", self.model_dir / Path(self.model_name) / \"model.py\"\n",
    "        )\n",
    "\n",
    "    def __init__(\n",
    "        self,\n",
    "        indir: str,\n",
    "        outdir: str,\n",
    "        model_dir: str,\n",
    "        model_name: str,\n",
    "        preprocessor_config: dict = {},\n",
    "        model_config: dict = {},\n",
    "        recording_config: dict = {},\n",
    "    ):\n",
    "        self.input = Path(indir)\n",
    "        self.output = Path(outdir)\n",
    "        self.model_dir = Path(model_dir)\n",
    "        self.model_name = model_name\n",
    "        self.proprocessor_module = None\n",
    "        self.model_module = None\n",
    "        self.model = None\n",
    "        self.preprocessor = None\n",
    "\n",
    "        self._load_model()\n",
    "\n",
    "        self.preprocessor = self.preprocessor_module.Preprocessor(**preprocessor_config)\n",
    "\n",
    "        self.model = self.model_module.Model(\n",
    "            self.model_dir / model_name, **model_config\n",
    "        )\n",
    "\n",
    "        self.recording = SparrowRecording(\n",
    "            self.preprocessor, self.model, \"\", **recording_config\n",
    "        )\n",
    "\n",
    "        self.results = []\n",
    "\n",
    "        self.start_time = None\n",
    "        self.end_time = None\n",
    "\n",
    "    def change_model(\n",
    "        self,\n",
    "        model_name,\n",
    "        preprocessor_config: dict = {},\n",
    "        model_config: dict = {},\n",
    "    ):\n",
    "\n",
    "        raise RuntimeError(\"Not yet supported, only untested skeleton code exists\")\n",
    "\n",
    "        self.model_name = model_name\n",
    "\n",
    "        self._load_model()\n",
    "\n",
    "        self.preprocessor = self.preprocessor_module.Preprocessor(**preprocessor_config)\n",
    "\n",
    "        self.model = self.model_module.Model(\n",
    "            self.model_dir / model_name, **model_config\n",
    "        )\n",
    "\n",
    "        self.recording.set_analyzer(model, preprocessor)\n",
    "\n",
    "    def analyze(self, filename: str):\n",
    "        self.recording.path = filename\n",
    "\n",
    "        self.recording.analyze()\n",
    "\n",
    "        self.results.extend(self.recording.detections)\n",
    "\n",
    "        if len(self.results) >= 500:\n",
    "            self.save_results()\n",
    "            self.start_time = datetime.now().strftime(\"%y%m%d_%H%M%S\")\n",
    "\n",
    "    def save_results(self):\n",
    "        self.end_time = datetime.now().strftime(\"%y%m%d_%H%M%S\")\n",
    "\n",
    "        pd.DataFrame(self.results).to_csv(\n",
    "            self.output / Path(f\"{self.start_time}_{self.end_time}.csv\")\n",
    "        )\n",
    "\n",
    "    def run(self):\n",
    "        observer = Observer()\n",
    "        event_handler = AnalysisEventHandler(self.analyze)\n",
    "        observer.schedule(event_handler, self.input, recursive=True)\n",
    "        self.start_time = datetime.now().strftime(\"%y%m%d_%H%M%S\")\n",
    "        observer.start()\n",
    "\n",
    "        try:\n",
    "            while True:\n",
    "                time.sleep(1)\n",
    "        except KeyboardInterrupt:\n",
    "            observer.stop()\n",
    "        except Exception:\n",
    "            print(\"Something went wrong\")\n",
    "            observer.stop()\n",
    "        observer.join()"
   ]
  },
  {
   "cell_type": "code",
   "execution_count": 31,
   "metadata": {},
   "outputs": [],
   "source": [
    "preprocessor_cfg = {\n",
    "    \"sample_rate\": 48000,\n",
    "    \"overlap\": 0.0,\n",
    "    \"sample_secs\": 3.0,\n",
    "    \"resample_type\": \"kaiser_fast\",\n",
    "}\n",
    "\n",
    "model_cfg = {\n",
    "    \"num_threads\": 1,\n",
    "    \"sigmoid_sensitivity\": 1.0,\n",
    "    \"species_list_file\": None,\n",
    "}\n",
    "\n",
    "recording_cfg = {\n",
    "    \"date\": None,\n",
    "    \"lat\": None,\n",
    "    \"lon\": None,\n",
    "    \"species_presence_threshold\": 0.03,\n",
    "    \"min_conf\": 0.25,\n",
    "    \"species_predictor\": None,\n",
    "}"
   ]
  },
  {
   "cell_type": "code",
   "execution_count": 33,
   "metadata": {},
   "outputs": [
    {
     "name": "stdout",
     "output_type": "stream",
     "text": [
      "Labels loaded.\n"
     ]
    }
   ],
   "source": [
    "runner = Runner(\n",
    "    Path.home() / \"iSparrow_data\",\n",
    "    Path.home() / \"iSparrow_output\",\n",
    "    Path.home() / \"iSparrow/models\",\n",
    "    \"birdnet_default\",\n",
    "    preprocessor_cfg,\n",
    "    model_cfg,\n",
    "    recording_cfg,\n",
    ")"
   ]
  },
  {
   "cell_type": "code",
   "execution_count": 34,
   "metadata": {},
   "outputs": [
    {
     "name": "stdout",
     "output_type": "stream",
     "text": [
      "created /Users/haraldmack/iSparrow_data/240409_101212.wav\n",
      "read audio data of duration 24.0 from /Users/haraldmack/iSparrow_data/240409_101212.wav with sampling rate 48000\n",
      "process audio data custom\n",
      "process audio data custom: complete, read  8 chunks.\n",
      "name of model:  birdnet_default\n",
      "created /Users/haraldmack/iSparrow_data/240409_101236.wav\n",
      "read audio data of duration 24.0 from /Users/haraldmack/iSparrow_data/240409_101236.wav with sampling rate 48000\n",
      "process audio data custom\n",
      "process audio data custom: complete, read  8 chunks.\n",
      "name of model:  birdnet_default\n"
     ]
    }
   ],
   "source": [
    "runner.run()"
   ]
  },
  {
   "cell_type": "code",
   "execution_count": 35,
   "metadata": {},
   "outputs": [
    {
     "data": {
      "text/plain": [
       "[{'start': 9.0,\n",
       "  'end': 12.0,\n",
       "  'label': 'Turdus merula_Eurasian Blackbird',\n",
       "  'confidence': 0.3805372},\n",
       " {'start': 12.0,\n",
       "  'end': 15.0,\n",
       "  'label': 'Turdus merula_Eurasian Blackbird',\n",
       "  'confidence': 0.3738132},\n",
       " {'start': 15.0,\n",
       "  'end': 18.0,\n",
       "  'label': 'Turdus hortulorum_Gray-backed Thrush',\n",
       "  'confidence': 0.52868617},\n",
       " {'start': 18.0,\n",
       "  'end': 21.0,\n",
       "  'label': 'Turdus merula_Eurasian Blackbird',\n",
       "  'confidence': 0.9195597},\n",
       " {'start': 21.0,\n",
       "  'end': 24.0,\n",
       "  'label': 'Turdus merula_Eurasian Blackbird',\n",
       "  'confidence': 0.44440657},\n",
       " {'start': 21.0,\n",
       "  'end': 24.0,\n",
       "  'label': 'Sylvia atricapilla_Eurasian Blackcap',\n",
       "  'confidence': 0.25587997},\n",
       " {'start': 12.0,\n",
       "  'end': 15.0,\n",
       "  'label': 'Turdus merula_Eurasian Blackbird',\n",
       "  'confidence': 0.70951295}]"
      ]
     },
     "execution_count": 35,
     "metadata": {},
     "output_type": "execute_result"
    }
   ],
   "source": [
    "runner.results"
   ]
  },
  {
   "cell_type": "code",
   "execution_count": 36,
   "metadata": {},
   "outputs": [],
   "source": [
    "runner.save_results()"
   ]
  },
  {
   "cell_type": "code",
   "execution_count": 28,
   "metadata": {},
   "outputs": [],
   "source": [
    "res = [{'start': 9.0,\n",
    "   'end': 12.0,\n",
    "   'label': 'Turdus merula_Eurasian Blackbird',\n",
    "   'confidence': 0.3805372},\n",
    "  {'start': 12.0,\n",
    "   'end': 15.0,\n",
    "   'label': 'Turdus merula_Eurasian Blackbird',\n",
    "   'confidence': 0.3738132},\n",
    "  {'start': 15.0,\n",
    "   'end': 18.0,\n",
    "   'label': 'Turdus hortulorum_Gray-backed Thrush',\n",
    "   'confidence': 0.52868617},\n",
    "  {'start': 18.0,\n",
    "   'end': 21.0,\n",
    "   'label': 'Turdus merula_Eurasian Blackbird',\n",
    "   'confidence': 0.9195597},]"
   ]
  },
  {
   "cell_type": "code",
   "execution_count": 29,
   "metadata": {},
   "outputs": [
    {
     "data": {
      "text/html": [
       "<div>\n",
       "<style scoped>\n",
       "    .dataframe tbody tr th:only-of-type {\n",
       "        vertical-align: middle;\n",
       "    }\n",
       "\n",
       "    .dataframe tbody tr th {\n",
       "        vertical-align: top;\n",
       "    }\n",
       "\n",
       "    .dataframe thead th {\n",
       "        text-align: right;\n",
       "    }\n",
       "</style>\n",
       "<table border=\"1\" class=\"dataframe\">\n",
       "  <thead>\n",
       "    <tr style=\"text-align: right;\">\n",
       "      <th></th>\n",
       "      <th>start</th>\n",
       "      <th>end</th>\n",
       "      <th>label</th>\n",
       "      <th>confidence</th>\n",
       "    </tr>\n",
       "  </thead>\n",
       "  <tbody>\n",
       "    <tr>\n",
       "      <th>0</th>\n",
       "      <td>9.0</td>\n",
       "      <td>12.0</td>\n",
       "      <td>Turdus merula_Eurasian Blackbird</td>\n",
       "      <td>0.380537</td>\n",
       "    </tr>\n",
       "    <tr>\n",
       "      <th>1</th>\n",
       "      <td>12.0</td>\n",
       "      <td>15.0</td>\n",
       "      <td>Turdus merula_Eurasian Blackbird</td>\n",
       "      <td>0.373813</td>\n",
       "    </tr>\n",
       "    <tr>\n",
       "      <th>2</th>\n",
       "      <td>15.0</td>\n",
       "      <td>18.0</td>\n",
       "      <td>Turdus hortulorum_Gray-backed Thrush</td>\n",
       "      <td>0.528686</td>\n",
       "    </tr>\n",
       "    <tr>\n",
       "      <th>3</th>\n",
       "      <td>18.0</td>\n",
       "      <td>21.0</td>\n",
       "      <td>Turdus merula_Eurasian Blackbird</td>\n",
       "      <td>0.919560</td>\n",
       "    </tr>\n",
       "  </tbody>\n",
       "</table>\n",
       "</div>"
      ],
      "text/plain": [
       "   start   end                                 label  confidence\n",
       "0    9.0  12.0      Turdus merula_Eurasian Blackbird    0.380537\n",
       "1   12.0  15.0      Turdus merula_Eurasian Blackbird    0.373813\n",
       "2   15.0  18.0  Turdus hortulorum_Gray-backed Thrush    0.528686\n",
       "3   18.0  21.0      Turdus merula_Eurasian Blackbird    0.919560"
      ]
     },
     "execution_count": 29,
     "metadata": {},
     "output_type": "execute_result"
    }
   ],
   "source": [
    "pd.DataFrame(res)"
   ]
  },
  {
   "cell_type": "code",
   "execution_count": null,
   "metadata": {},
   "outputs": [],
   "source": []
  }
 ],
 "metadata": {
  "kernelspec": {
   "display_name": ".isparrowrecord",
   "language": "python",
   "name": "python3"
  },
  "language_info": {
   "codemirror_mode": {
    "name": "ipython",
    "version": 3
   },
   "file_extension": ".py",
   "mimetype": "text/x-python",
   "name": "python",
   "nbconvert_exporter": "python",
   "pygments_lexer": "ipython3",
   "version": "3.12.2"
  }
 },
 "nbformat": 4,
 "nbformat_minor": 2
}
