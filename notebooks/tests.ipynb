{
 "cells": [
  {
   "cell_type": "code",
   "execution_count": 1,
   "metadata": {},
   "outputs": [],
   "source": [
    "from pathlib import Path"
   ]
  },
  {
   "cell_type": "code",
   "execution_count": 2,
   "metadata": {},
   "outputs": [],
   "source": [
    "import sys\n",
    "\n",
    "sys.path.append(str(Path.home() / Path(\"Development\") / \"iSparrow\"))"
   ]
  },
  {
   "cell_type": "code",
   "execution_count": 3,
   "metadata": {},
   "outputs": [
    {
     "name": "stderr",
     "output_type": "stream",
     "text": [
      "2024-04-10 11:30:34.336737: I tensorflow/core/platform/cpu_feature_guard.cc:210] This TensorFlow binary is optimized to use available CPU instructions in performance-critical operations.\n",
      "To enable the following instructions: AVX2 FMA, in other operations, rebuild TensorFlow with the appropriate compiler flags.\n",
      "2024-04-10 11:30:34.831349: W tensorflow/compiler/tf2tensorrt/utils/py_utils.cc:38] TF-TRT Warning: Could not find TensorRT\n"
     ]
    }
   ],
   "source": [
    "from iSparrow import PreprocessorBase\n",
    "from iSparrow import ModelBase\n",
    "from iSparrow import SparrowRecording\n",
    "from iSparrow import SpeciesPredictorBase\n",
    "from iSparrow import SparrowWatcher\n",
    "import iSparrow.utils as utils"
   ]
  },
  {
   "cell_type": "code",
   "execution_count": 4,
   "metadata": {},
   "outputs": [],
   "source": [
    "import os\n",
    "import pandas as pd\n",
    "import tests.set_up_sparrow_env as sp\n",
    "from watchdog.events import LoggingEventHandler, FileSystemEventHandler\n",
    "from watchdog.observers import Observer\n",
    "import time\n",
    "from datetime import datetime\n",
    "from copy import deepcopy\n",
    "import yaml\n",
    "import threading\n"
   ]
  },
  {
   "cell_type": "code",
   "execution_count": 5,
   "metadata": {},
   "outputs": [
    {
     "name": "stdout",
     "output_type": "stream",
     "text": [
      "Creating iSparrow folders and downloading data... \n",
      "...reading config from /home/hmack/Development/iSparrow/config/install_cfg.yml\n",
      "...Making direcotries...\n",
      "/home/hmack/iSparrow /home/hmack/iSparrow/models /home/hmack/iSparrow_data /home/hmack/iSparrow_output /home/hmack/iSparrow/example\n",
      "... Downloading model files...\n",
      "... Downloading example files...\n",
      "Installation finished\n"
     ]
    }
   ],
   "source": [
    "# make a mock install of sparrow. will be invisible in the future\n",
    "sp.install()"
   ]
  },
  {
   "cell_type": "code",
   "execution_count": 6,
   "metadata": {},
   "outputs": [
    {
     "name": "stdout",
     "output_type": "stream",
     "text": [
      "Labels loaded.\n"
     ]
    },
    {
     "name": "stderr",
     "output_type": "stream",
     "text": [
      "INFO: Created TensorFlow Lite XNNPACK delegate for CPU.\n"
     ]
    }
   ],
   "source": [
    "preprocessor_cfg = {\n",
    "    \"sample_rate\": 48000,\n",
    "    \"overlap\": 0.0,\n",
    "    \"sample_secs\": 3.0,\n",
    "    \"resample_type\": \"kaiser_fast\",\n",
    "}\n",
    "\n",
    "model_cfg = {\n",
    "    \"num_threads\": 1,\n",
    "    \"sigmoid_sensitivity\": 1.0,\n",
    "    \"species_list_file\": None,\n",
    "}\n",
    "\n",
    "recording_cfg = {\n",
    "    \"date\": datetime(year=2022, month=5, day=10),\n",
    "    \"lat\": 35.4244,\n",
    "    \"lon\": -120.7463,\n",
    "    \"species_presence_threshold\": 0.03,\n",
    "    \"min_conf\": 0.25,\n",
    "    \"species_predictor\": None,\n",
    "}\n",
    "\n",
    "species_predictor_cfg = {\n",
    "    \"use_cache\": True,\n",
    "    \"num_threads\": 1,\n",
    "}\n",
    "\n",
    "runner = SparrowWatcher(\n",
    "    Path.home() / \"iSparrow_data\",\n",
    "    Path.home() / \"iSparrow_output\",\n",
    "    Path.home() / \"iSparrow/models\",\n",
    "    \"birdnet_default\",\n",
    "    preprocessor_config=preprocessor_cfg,\n",
    "    model_config=model_cfg,\n",
    "    recording_config=recording_cfg,\n",
    "    species_predictor_config=species_predictor_cfg,\n",
    ")"
   ]
  },
  {
   "cell_type": "code",
   "execution_count": null,
   "metadata": {},
   "outputs": [
    {
     "name": "stdout",
     "output_type": "stream",
     "text": [
      "read audio data of duration 120.0 from /home/hmack/iSparrow_data/Q9_0#.wav with sampling rate 48000\n",
      "process audio data default\n",
      "process audio data default: complete, read  40 chunks.\n",
      "name of model:  birdnet_default\n"
     ]
    },
    {
     "name": "stderr",
     "output_type": "stream",
     "text": [
      "WARNING: Attempting to use a delegate that only supports static-sized tensors with a graph that has dynamic-sized tensors (tensor#187 is a dynamic-sized tensor).\n"
     ]
    },
    {
     "name": "stdout",
     "output_type": "stream",
     "text": [
      "[{'start': 9.0, 'end': 12.0, 'label': 'Haemorhous mexicanus_House Finch', 'confidence': 0.63937765}, {'start': 33.0, 'end': 36.0, 'label': 'Junco hyemalis_Dark-eyed Junco', 'confidence': 0.45906296}, {'start': 36.0, 'end': 39.0, 'label': 'Junco hyemalis_Dark-eyed Junco', 'confidence': 0.353685}, {'start': 39.0, 'end': 42.0, 'label': 'Haemorhous mexicanus_House Finch', 'confidence': 0.25325066}, {'start': 42.0, 'end': 45.0, 'label': 'Junco hyemalis_Dark-eyed Junco', 'confidence': 0.7375431}, {'start': 51.0, 'end': 54.0, 'label': 'Haemorhous mexicanus_House Finch', 'confidence': 0.25640452}, {'start': 54.0, 'end': 57.0, 'label': 'Haemorhous mexicanus_House Finch', 'confidence': 0.6070655}, {'start': 60.0, 'end': 63.0, 'label': 'Junco hyemalis_Dark-eyed Junco', 'confidence': 0.554988}, {'start': 69.0, 'end': 72.0, 'label': 'Haemorhous mexicanus_House Finch', 'confidence': 0.29147243}, {'start': 72.0, 'end': 75.0, 'label': 'Haemorhous mexicanus_House Finch', 'confidence': 0.56384665}, {'start': 78.0, 'end': 81.0, 'label': 'Haemorhous mexicanus_House Finch', 'confidence': 0.2560674}, {'start': 84.0, 'end': 87.0, 'label': 'Haemorhous mexicanus_House Finch', 'confidence': 0.28010136}, {'start': 90.0, 'end': 93.0, 'label': 'Spinus tristis_American Goldfinch', 'confidence': 0.41903508}, {'start': 93.0, 'end': 96.0, 'label': 'Haemorhous mexicanus_House Finch', 'confidence': 0.31683487}, {'start': 96.0, 'end': 99.0, 'label': 'Spinus tristis_American Goldfinch', 'confidence': 0.47651592}, {'start': 102.0, 'end': 105.0, 'label': 'Haemorhous mexicanus_House Finch', 'confidence': 0.4458928}, {'start': 117.0, 'end': 120.0, 'label': 'Spinus tristis_American Goldfinch', 'confidence': 0.39239487}]\n",
      "read audio data of duration 3.9675208333333334 from /home/hmack/iSparrow_data/a}=S_.wav with sampling rate 48000\n",
      "process audio data default\n",
      "process audio data default: complete, read  1 chunks.\n",
      "name of model:  birdnet_default\n",
      "[]\n",
      "read audio data of duration 5.8021875 from /home/hmack/iSparrow_data/XFT~|.wav with sampling rate 48000\n",
      "process audio data default\n",
      "process audio data default: complete, read  2 chunks.\n",
      "name of model:  birdnet_default\n",
      "[]\n",
      "read audio data of duration 3.8821875 from /home/hmack/iSparrow_data/,V`lm.wav with sampling rate 48000\n",
      "process audio data default\n",
      "process audio data default: complete, read  1 chunks.\n",
      "name of model:  birdnet_default\n",
      "[]\n",
      "read audio data of duration 4.4368541666666665 from /home/hmack/iSparrow_data/P2T#o.wav with sampling rate 48000\n",
      "process audio data default\n",
      "process audio data default: complete, read  1 chunks.\n",
      "name of model:  birdnet_default\n",
      "[]\n",
      "read audio data of duration 4.4368541666666665 from /home/hmack/iSparrow_data/<nH=m.wav with sampling rate 48000\n",
      "process audio data default\n",
      "process audio data default: complete, read  1 chunks.\n",
      "name of model:  birdnet_default\n",
      "[]\n",
      "read audio data of duration 5.1621875 from /home/hmack/iSparrow_data/>Kl\"0.wav with sampling rate 48000\n",
      "process audio data default\n",
      "process audio data default: complete, read  2 chunks.\n",
      "name of model:  birdnet_default\n",
      "[]\n",
      "read audio data of duration 4.0101875 from /home/hmack/iSparrow_data/*j*oE.wav with sampling rate 48000\n",
      "process audio data default\n",
      "process audio data default: complete, read  1 chunks.\n",
      "name of model:  birdnet_default\n",
      "[]\n",
      "read audio data of duration 4.735520833333333 from /home/hmack/iSparrow_data/LZ;o<.wav with sampling rate 48000\n",
      "process audio data default\n",
      "process audio data default: complete, read  2 chunks.\n",
      "name of model:  birdnet_default\n",
      "[]\n",
      "read audio data of duration 4.948854166666667 from /home/hmack/iSparrow_data/ivEdP.wav with sampling rate 48000\n",
      "process audio data default\n",
      "process audio data default: complete, read  2 chunks.\n",
      "name of model:  birdnet_default\n",
      "[]\n",
      "read audio data of duration 4.180854166666666 from /home/hmack/iSparrow_data/=Ei?V.wav with sampling rate 48000\n",
      "process audio data default\n",
      "process audio data default: complete, read  1 chunks.\n",
      "name of model:  birdnet_default\n",
      "[]\n",
      "read audio data of duration 3.8821875 from /home/hmack/iSparrow_data/;(x$s.wav with sampling rate 48000\n",
      "process audio data default\n",
      "process audio data default: complete, read  1 chunks.\n",
      "name of model:  birdnet_default\n",
      "[]\n",
      "read audio data of duration 4.0955208333333335 from /home/hmack/iSparrow_data/SFuD4.wav with sampling rate 48000\n",
      "process audio data default\n",
      "process audio data default: complete, read  1 chunks.\n",
      "name of model:  birdnet_default\n",
      "[]\n"
     ]
    }
   ],
   "source": [
    "runner.start()"
   ]
  },
  {
   "cell_type": "code",
   "execution_count": null,
   "metadata": {},
   "outputs": [],
   "source": [
    "preprocessor_cfg = {\n",
    "    \"sample_rate\": 48000,\n",
    "    \"overlap\": 0.0,\n",
    "    \"sample_secs\": 3.0,\n",
    "    \"resample_type\": \"kaiser_fast\",\n",
    "}\n",
    "\n",
    "model_cfg = {\n",
    "    \"num_threads\": 1,\n",
    "    \"sigmoid_sensitivity\": 1.0,\n",
    "    \"default_model_path\": str(Path.home() / \"iSparrow/models/birdnet_default\"),\n",
    "}\n",
    "\n",
    "runner.change_analyzer(\n",
    "    \"birdnet_custom\", preprocessor_config=preprocessor_cfg, model_config=model_cfg\n",
    ")"
   ]
  },
  {
   "cell_type": "code",
   "execution_count": null,
   "metadata": {},
   "outputs": [],
   "source": []
  }
 ],
 "metadata": {
  "kernelspec": {
   "display_name": ".isparrowrecord",
   "language": "python",
   "name": "python3"
  },
  "language_info": {
   "codemirror_mode": {
    "name": "ipython",
    "version": 3
   },
   "file_extension": ".py",
   "mimetype": "text/x-python",
   "name": "python",
   "nbconvert_exporter": "python",
   "pygments_lexer": "ipython3",
   "version": "3.10.12"
  }
 },
 "nbformat": 4,
 "nbformat_minor": 2
}
