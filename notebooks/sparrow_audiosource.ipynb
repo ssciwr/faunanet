{
 "cells": [
  {
   "cell_type": "code",
   "execution_count": null,
   "metadata": {},
   "outputs": [],
   "source": [
    "import librosa\n",
    "from abc import ABC, abstractmethod\n",
    "from datetime import datetime\n",
    "import subprocess\n",
    "from pathlib import Path\n",
    "import warnings\n",
    "import numpy as np\n",
    "from shutil import which\n",
    "import pyaudio\n",
    "\n",
    "from iSparrow import audio_recording as ard"
   ]
  },
  {
   "cell_type": "code",
   "execution_count": null,
   "metadata": {},
   "outputs": [],
   "source": [
    "p = pyaudio.PyAudio()"
   ]
  },
  {
   "cell_type": "code",
   "execution_count": null,
   "metadata": {},
   "outputs": [],
   "source": [
    "num_devices = p.get_device_count()\n",
    "for i in range(num_devices):\n",
    "    device_info = p.get_device_info_by_index(i)\n",
    "    print(f\"Device {i}: {device_info['name']}\")"
   ]
  },
  {
   "cell_type": "code",
   "execution_count": null,
   "metadata": {},
   "outputs": [],
   "source": [
    "class Condition: \n",
    "\n",
    "    def __init__(self):\n",
    "        self.x = 2\n",
    "\n",
    "    def __call__(self, _):\n",
    "\n",
    "        cond = self.x <= 0\n",
    "\n",
    "        self.x -= 1 \n",
    "\n",
    "        return cond"
   ]
  },
  {
   "cell_type": "code",
   "execution_count": null,
   "metadata": {},
   "outputs": [],
   "source": [
    "recorder = ard.Recorder(\n",
    "    Path.home()/\"iSparrow_data\", \n",
    "    length_s = 5, \n",
    "    sample_rate = 48000, \n",
    ")"
   ]
  },
  {
   "cell_type": "code",
   "execution_count": null,
   "metadata": {},
   "outputs": [],
   "source": [
    "recorder.num_format = \"horfdjlafj;\""
   ]
  },
  {
   "cell_type": "code",
   "execution_count": null,
   "metadata": {},
   "outputs": [],
   "source": [
    "if Path(Path.home() / \"iSparrow_data\").exists() is False: \n",
    "     Path(Path.home() / \"iSparrow_data\").mkdir()\n"
   ]
  },
  {
   "cell_type": "code",
   "execution_count": null,
   "metadata": {},
   "outputs": [],
   "source": [
    "recorder.start(stop_condition=Condition())"
   ]
  }
 ],
 "metadata": {
  "kernelspec": {
   "display_name": "sparrow",
   "language": "python",
   "name": "python3"
  },
  "language_info": {
   "codemirror_mode": {
    "name": "ipython",
    "version": 3
   },
   "file_extension": ".py",
   "mimetype": "text/x-python",
   "name": "python",
   "nbconvert_exporter": "python",
   "pygments_lexer": "ipython3",
   "version": "3.10.12"
  }
 },
 "nbformat": 4,
 "nbformat_minor": 2
}
