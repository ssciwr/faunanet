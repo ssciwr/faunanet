{
 "cells": [
  {
   "cell_type": "code",
   "execution_count": null,
   "metadata": {},
   "outputs": [],
   "source": [
    "import librosa\n",
    "from pvrecorder import PvRecorder\n",
    "from abc import ABC, abstractmethod\n",
    "from datetime import datetime\n",
    "import subprocess\n",
    "from pathlib import Path\n",
    "import warnings\n",
    "import numpy as np\n",
    "from shutil import which\n",
    "import pyaudio\n",
    "\n",
    "from iSparrow import audio_recording as ard"
   ]
  },
  {
   "cell_type": "code",
   "execution_count": null,
   "metadata": {},
   "outputs": [],
   "source": [
    "p = pyaudio.PyAudio()"
   ]
  },
  {
   "cell_type": "code",
   "execution_count": null,
   "metadata": {},
   "outputs": [],
   "source": [
    "num_devices = p.get_device_count()\n",
    "for i in range(num_devices):\n",
    "    device_info = p.get_device_info_by_index(i)\n",
    "    print(f\"Device {i}: {device_info['name']}\")"
   ]
  }
 ],
 "metadata": {
  "kernelspec": {
   "display_name": "sparrow",
   "language": "python",
   "name": "python3"
  },
  "language_info": {
   "codemirror_mode": {
    "name": "ipython",
    "version": 3
   },
   "file_extension": ".py",
   "mimetype": "text/x-python",
   "name": "python",
   "nbconvert_exporter": "python",
   "pygments_lexer": "ipython3",
   "version": "3.10.12"
  }
 },
 "nbformat": 4,
 "nbformat_minor": 2
}
